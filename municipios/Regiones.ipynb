{
 "cells": [
  {
   "cell_type": "markdown",
   "metadata": {
    "cell_id": "d47e29e5a75047028affa347d9f31f31",
    "deepnote_cell_type": "markdown",
    "id": "TbJVdEgiT10x"
   },
   "source": [
    "# Análisis de Departamentos y municipios de Colombia\n",
    "\n",
    "## Integrantes - Grupo 15\n",
    "\n",
    "- Sara Sofia Cárdenas Rodríguez - 202214907\n",
    "- Daniel Felipe Diaz Moreno - 202210773\n",
    "- Juan Sebastián Urrea López - 201914710\n"
   ]
  },
  {
   "cell_type": "markdown",
   "metadata": {
    "cell_id": "dae9268966f3426ea18c27846fc4ee37",
    "deepnote_cell_type": "markdown",
    "id": "W8bV2RZ0T10x"
   },
   "source": [
    "## Los datos\n",
    "\n",
    "Se trabaja con un conjunto de datos que contiene las regiones, departamentos y municipios de Colombia, asi como sus correspondientes identificadores\n"
   ]
  },
  {
   "cell_type": "markdown",
   "metadata": {
    "cell_id": "92d65db1ff7a4d5d95f0b94a5dca25f0",
    "deepnote_cell_type": "markdown",
    "id": "RVDZ5IMpT10y"
   },
   "source": [
    "## 1. Carga y Manipulación básica de los Datos"
   ]
  },
  {
   "cell_type": "code",
   "execution_count": 92,
   "metadata": {
    "cell_id": "25f89e9c22d54a83a38a71795dc6ebd5",
    "colab": {
     "base_uri": "https://localhost:8080/"
    },
    "deepnote_cell_type": "code",
    "execution_context_id": "cac25676-6f04-46ac-a839-ae17a7654a45",
    "execution_millis": 1107,
    "execution_start": 1730430956105,
    "id": "lFYczuz7T10x",
    "outputId": "9b3b137e-fca9-4c73-eaee-c2d918054ebd",
    "source_hash": "dda32890"
   },
   "outputs": [],
   "source": [
    "# Importaciones de bibliotecas\n",
    "import pandas as pd"
   ]
  },
  {
   "cell_type": "code",
   "execution_count": 93,
   "metadata": {
    "cell_id": "26e8ef7ad1964c17a0ea26dec858c01b",
    "deepnote_cell_type": "code",
    "execution_context_id": "cac25676-6f04-46ac-a839-ae17a7654a45",
    "execution_millis": 4664,
    "execution_start": 1730430957269,
    "id": "fRFCIRjvT10y",
    "source_hash": "70469b0a"
   },
   "outputs": [
    {
     "name": "stdout",
     "output_type": "stream",
     "text": [
      "Las dimensiones de Regiones.csv son: (1123, 5)\n"
     ]
    }
   ],
   "source": [
    "regiones_df = pd.read_csv(\"Regiones.csv\", delimiter=\",\")\n",
    "\n",
    "\n",
    "print(f\"Las dimensiones de Regiones.csv son: {regiones_df.shape}\")\n"
   ]
  },
  {
   "cell_type": "code",
   "execution_count": 94,
   "metadata": {
    "cell_id": "cbdaf3bcce11477e92ef565c45ca629c",
    "colab": {
     "base_uri": "https://localhost:8080/"
    },
    "deepnote_cell_type": "code",
    "execution_context_id": "cac25676-6f04-46ac-a839-ae17a7654a45",
    "execution_millis": 0,
    "execution_start": 1730430962153,
    "id": "8cf97Fwsa4_9",
    "outputId": "b0330dd2-ba47-4e16-e8ab-d72936e4f916",
    "source_hash": "f1402d65"
   },
   "outputs": [
    {
     "data": {
      "text/html": [
       "<div>\n",
       "<style scoped>\n",
       "    .dataframe tbody tr th:only-of-type {\n",
       "        vertical-align: middle;\n",
       "    }\n",
       "\n",
       "    .dataframe tbody tr th {\n",
       "        vertical-align: top;\n",
       "    }\n",
       "\n",
       "    .dataframe thead th {\n",
       "        text-align: right;\n",
       "    }\n",
       "</style>\n",
       "<table border=\"1\" class=\"dataframe\">\n",
       "  <thead>\n",
       "    <tr style=\"text-align: right;\">\n",
       "      <th></th>\n",
       "      <th>REGION</th>\n",
       "      <th>CÓDIGO DANE DEL DEPARTAMENTO</th>\n",
       "      <th>DEPARTAMENTO</th>\n",
       "      <th>CÓDIGO DANE DEL MUNICIPIO</th>\n",
       "      <th>MUNICIPIO</th>\n",
       "    </tr>\n",
       "  </thead>\n",
       "  <tbody>\n",
       "    <tr>\n",
       "      <th>369</th>\n",
       "      <td>Región Caribe</td>\n",
       "      <td>20</td>\n",
       "      <td>Cesar</td>\n",
       "      <td>20.550</td>\n",
       "      <td>Pelaya</td>\n",
       "    </tr>\n",
       "    <tr>\n",
       "      <th>282</th>\n",
       "      <td>Región Eje Cafetero - Antioquia</td>\n",
       "      <td>17</td>\n",
       "      <td>Caldas</td>\n",
       "      <td>17.088</td>\n",
       "      <td>Belalcázar</td>\n",
       "    </tr>\n",
       "    <tr>\n",
       "      <th>928</th>\n",
       "      <td>Región Caribe</td>\n",
       "      <td>70</td>\n",
       "      <td>Sucre</td>\n",
       "      <td>70.702</td>\n",
       "      <td>San Juan de Betulia</td>\n",
       "    </tr>\n",
       "    <tr>\n",
       "      <th>497</th>\n",
       "      <td>Región Pacífico</td>\n",
       "      <td>27</td>\n",
       "      <td>Chocó</td>\n",
       "      <td>27.001</td>\n",
       "      <td>Quibdó</td>\n",
       "    </tr>\n",
       "    <tr>\n",
       "      <th>149</th>\n",
       "      <td>Región Caribe</td>\n",
       "      <td>13</td>\n",
       "      <td>Bolívar</td>\n",
       "      <td>13.433</td>\n",
       "      <td>Mahates</td>\n",
       "    </tr>\n",
       "    <tr>\n",
       "      <th>13</th>\n",
       "      <td>Región Eje Cafetero - Antioquia</td>\n",
       "      <td>5</td>\n",
       "      <td>Antioquia</td>\n",
       "      <td>5.051</td>\n",
       "      <td>Arboletes</td>\n",
       "    </tr>\n",
       "    <tr>\n",
       "      <th>1055</th>\n",
       "      <td>Región Centro Sur</td>\n",
       "      <td>86</td>\n",
       "      <td>Putumayo</td>\n",
       "      <td>86.568</td>\n",
       "      <td>Puerto Asís</td>\n",
       "    </tr>\n",
       "    <tr>\n",
       "      <th>600</th>\n",
       "      <td>Región Llano</td>\n",
       "      <td>50</td>\n",
       "      <td>Meta</td>\n",
       "      <td>50.313</td>\n",
       "      <td>Granada</td>\n",
       "    </tr>\n",
       "    <tr>\n",
       "      <th>116</th>\n",
       "      <td>Región Eje Cafetero - Antioquia</td>\n",
       "      <td>5</td>\n",
       "      <td>Antioquia</td>\n",
       "      <td>5.885</td>\n",
       "      <td>Yalí</td>\n",
       "    </tr>\n",
       "    <tr>\n",
       "      <th>176</th>\n",
       "      <td>Región Centro Oriente</td>\n",
       "      <td>15</td>\n",
       "      <td>Boyacá</td>\n",
       "      <td>15.097</td>\n",
       "      <td>Boavita</td>\n",
       "    </tr>\n",
       "  </tbody>\n",
       "</table>\n",
       "</div>"
      ],
      "text/plain": [
       "                               REGION  CÓDIGO DANE DEL DEPARTAMENTO  \\\n",
       "369                     Región Caribe                            20   \n",
       "282   Región Eje Cafetero - Antioquia                            17   \n",
       "928                     Región Caribe                            70   \n",
       "497                   Región Pacífico                            27   \n",
       "149                     Región Caribe                            13   \n",
       "13    Región Eje Cafetero - Antioquia                             5   \n",
       "1055                Región Centro Sur                            86   \n",
       "600                      Región Llano                            50   \n",
       "116   Región Eje Cafetero - Antioquia                             5   \n",
       "176             Región Centro Oriente                            15   \n",
       "\n",
       "     DEPARTAMENTO  CÓDIGO DANE DEL MUNICIPIO            MUNICIPIO  \n",
       "369         Cesar                     20.550               Pelaya  \n",
       "282        Caldas                     17.088           Belalcázar  \n",
       "928         Sucre                     70.702  San Juan de Betulia  \n",
       "497         Chocó                     27.001               Quibdó  \n",
       "149       Bolívar                     13.433              Mahates  \n",
       "13      Antioquia                      5.051            Arboletes  \n",
       "1055     Putumayo                     86.568          Puerto Asís  \n",
       "600          Meta                     50.313              Granada  \n",
       "116     Antioquia                      5.885                 Yalí  \n",
       "176        Boyacá                     15.097              Boavita  "
      ]
     },
     "execution_count": 94,
     "metadata": {},
     "output_type": "execute_result"
    }
   ],
   "source": [
    "regiones_df.sample(10)"
   ]
  },
  {
   "cell_type": "code",
   "execution_count": 95,
   "metadata": {
    "cell_id": "c37d89aa55564643a6f8112d1c292fae",
    "deepnote_cell_type": "code",
    "execution_context_id": "cac25676-6f04-46ac-a839-ae17a7654a45",
    "execution_millis": 0,
    "execution_start": 1730430962349,
    "source_hash": "db0467fc"
   },
   "outputs": [
    {
     "name": "stdout",
     "output_type": "stream",
     "text": [
      "<class 'pandas.core.frame.DataFrame'>\n",
      "RangeIndex: 1123 entries, 0 to 1122\n",
      "Data columns (total 5 columns):\n",
      " #   Column                        Non-Null Count  Dtype  \n",
      "---  ------                        --------------  -----  \n",
      " 0   REGION                        1123 non-null   object \n",
      " 1   CÓDIGO DANE DEL DEPARTAMENTO  1123 non-null   int64  \n",
      " 2   DEPARTAMENTO                  1123 non-null   object \n",
      " 3   CÓDIGO DANE DEL MUNICIPIO     1123 non-null   float64\n",
      " 4   MUNICIPIO                     1123 non-null   object \n",
      "dtypes: float64(1), int64(1), object(3)\n",
      "memory usage: 44.0+ KB\n"
     ]
    }
   ],
   "source": [
    "regiones_df.info()"
   ]
  },
  {
   "cell_type": "markdown",
   "metadata": {},
   "source": [
    "Vemos que los tipos de atributos son consistentes con lo esperados."
   ]
  },
  {
   "cell_type": "code",
   "execution_count": 96,
   "metadata": {
    "cell_id": "7ff9a44f7d86494cb37c66a44c4108a4",
    "deepnote_cell_type": "code",
    "execution_context_id": "cac25676-6f04-46ac-a839-ae17a7654a45",
    "execution_millis": 7,
    "execution_start": 1730430962397,
    "source_hash": "605fcd8d"
   },
   "outputs": [
    {
     "data": {
      "text/html": [
       "<div>\n",
       "<style scoped>\n",
       "    .dataframe tbody tr th:only-of-type {\n",
       "        vertical-align: middle;\n",
       "    }\n",
       "\n",
       "    .dataframe tbody tr th {\n",
       "        vertical-align: top;\n",
       "    }\n",
       "\n",
       "    .dataframe thead th {\n",
       "        text-align: right;\n",
       "    }\n",
       "</style>\n",
       "<table border=\"1\" class=\"dataframe\">\n",
       "  <thead>\n",
       "    <tr style=\"text-align: right;\">\n",
       "      <th></th>\n",
       "      <th>REGION</th>\n",
       "      <th>DEPARTAMENTO</th>\n",
       "      <th>MUNICIPIO</th>\n",
       "    </tr>\n",
       "  </thead>\n",
       "  <tbody>\n",
       "    <tr>\n",
       "      <th>count</th>\n",
       "      <td>1123</td>\n",
       "      <td>1123</td>\n",
       "      <td>1123</td>\n",
       "    </tr>\n",
       "    <tr>\n",
       "      <th>unique</th>\n",
       "      <td>6</td>\n",
       "      <td>33</td>\n",
       "      <td>1035</td>\n",
       "    </tr>\n",
       "    <tr>\n",
       "      <th>top</th>\n",
       "      <td>Región Centro Oriente</td>\n",
       "      <td>Antioquia</td>\n",
       "      <td>La Unión</td>\n",
       "    </tr>\n",
       "    <tr>\n",
       "      <th>freq</th>\n",
       "      <td>367</td>\n",
       "      <td>125</td>\n",
       "      <td>4</td>\n",
       "    </tr>\n",
       "  </tbody>\n",
       "</table>\n",
       "</div>"
      ],
      "text/plain": [
       "                       REGION DEPARTAMENTO MUNICIPIO\n",
       "count                    1123         1123      1123\n",
       "unique                      6           33      1035\n",
       "top     Región Centro Oriente    Antioquia  La Unión\n",
       "freq                      367          125         4"
      ]
     },
     "execution_count": 96,
     "metadata": {},
     "output_type": "execute_result"
    }
   ],
   "source": [
    "atributosDeTexto = regiones_df.select_dtypes(include=['object']).columns\n",
    "regiones_df[atributosDeTexto].describe()\n"
   ]
  },
  {
   "cell_type": "markdown",
   "metadata": {},
   "source": [
    "Vemos que \"La Unión\" aparece 4 veces, posteriormente se evaluará si es un error de unicidad o si se debe a municipios homonimos"
   ]
  },
  {
   "cell_type": "markdown",
   "metadata": {
    "cell_id": "5f6cacc01bdb49a9a5b090746444a1ef",
    "deepnote_cell_type": "markdown",
    "id": "xhd-VBJxT10z"
   },
   "source": [
    "## 2. Entendimiento de los datos"
   ]
  },
  {
   "cell_type": "markdown",
   "metadata": {
    "cell_id": "123e99c6584a4eafb7e966a9537031e9",
    "deepnote_cell_type": "markdown",
    "id": "6hpqAaCfJgVx"
   },
   "source": [
    "## 2.1. Análisis de calidad de datos\n",
    "\n",
    "\n",
    "\n"
   ]
  },
  {
   "cell_type": "markdown",
   "metadata": {
    "cell_id": "87edba73baf94951b280f882d8907990",
    "deepnote_cell_type": "markdown",
    "id": "bW2FKJVfT10z"
   },
   "source": [
    "## 2.1.1. Análisis de completitud\n",
    "A continuación, se presentan los porcentajes de completitud e incompletitud para cada uno de los atributos."
   ]
  },
  {
   "cell_type": "code",
   "execution_count": 97,
   "metadata": {
    "cell_id": "34ecce578255454785274ccafb78f38a",
    "colab": {
     "base_uri": "https://localhost:8080/",
     "height": 112
    },
    "deepnote_cell_type": "code",
    "execution_context_id": "cac25676-6f04-46ac-a839-ae17a7654a45",
    "execution_millis": 1,
    "execution_start": 1730430963533,
    "id": "Z_X2Pl-pT10z",
    "outputId": "67512146-df91-46fa-d5b6-310dd36c7915",
    "source_hash": "859ec5d5"
   },
   "outputs": [
    {
     "data": {
      "text/html": [
       "<div>\n",
       "<style scoped>\n",
       "    .dataframe tbody tr th:only-of-type {\n",
       "        vertical-align: middle;\n",
       "    }\n",
       "\n",
       "    .dataframe tbody tr th {\n",
       "        vertical-align: top;\n",
       "    }\n",
       "\n",
       "    .dataframe thead th {\n",
       "        text-align: right;\n",
       "    }\n",
       "</style>\n",
       "<table border=\"1\" class=\"dataframe\">\n",
       "  <thead>\n",
       "    <tr style=\"text-align: right;\">\n",
       "      <th></th>\n",
       "      <th>Atributo</th>\n",
       "      <th>Completitud (%)</th>\n",
       "      <th>Incompletitud (%)</th>\n",
       "    </tr>\n",
       "  </thead>\n",
       "  <tbody>\n",
       "    <tr>\n",
       "      <th>0</th>\n",
       "      <td>REGION</td>\n",
       "      <td>100.0</td>\n",
       "      <td>0.0</td>\n",
       "    </tr>\n",
       "    <tr>\n",
       "      <th>1</th>\n",
       "      <td>CÓDIGO DANE DEL DEPARTAMENTO</td>\n",
       "      <td>100.0</td>\n",
       "      <td>0.0</td>\n",
       "    </tr>\n",
       "    <tr>\n",
       "      <th>2</th>\n",
       "      <td>DEPARTAMENTO</td>\n",
       "      <td>100.0</td>\n",
       "      <td>0.0</td>\n",
       "    </tr>\n",
       "    <tr>\n",
       "      <th>3</th>\n",
       "      <td>CÓDIGO DANE DEL MUNICIPIO</td>\n",
       "      <td>100.0</td>\n",
       "      <td>0.0</td>\n",
       "    </tr>\n",
       "    <tr>\n",
       "      <th>4</th>\n",
       "      <td>MUNICIPIO</td>\n",
       "      <td>100.0</td>\n",
       "      <td>0.0</td>\n",
       "    </tr>\n",
       "  </tbody>\n",
       "</table>\n",
       "</div>"
      ],
      "text/plain": [
       "                       Atributo  Completitud (%)  Incompletitud (%)\n",
       "0                        REGION            100.0                0.0\n",
       "1  CÓDIGO DANE DEL DEPARTAMENTO            100.0                0.0\n",
       "2                  DEPARTAMENTO            100.0                0.0\n",
       "3     CÓDIGO DANE DEL MUNICIPIO            100.0                0.0\n",
       "4                     MUNICIPIO            100.0                0.0"
      ]
     },
     "execution_count": 97,
     "metadata": {},
     "output_type": "execute_result"
    }
   ],
   "source": [
    "porcentajeIncompletitudAtributo =  (100 * regiones_df.isnull().sum() / regiones_df.shape[0]).sort_values(ascending=False)\n",
    "pd.DataFrame({\n",
    "    \"Atributo\": porcentajeIncompletitudAtributo.index,\n",
    "    \"Completitud (%)\": 100 - porcentajeIncompletitudAtributo.values,\n",
    "    \"Incompletitud (%)\": porcentajeIncompletitudAtributo.values\n",
    "})"
   ]
  },
  {
   "cell_type": "markdown",
   "metadata": {
    "cell_id": "4c34baf30d7f43409a54d33eb0b2e930",
    "deepnote_cell_type": "markdown"
   },
   "source": [
    "Todos los datos estan presentes, no hay problemas de completitud"
   ]
  },
  {
   "cell_type": "markdown",
   "metadata": {
    "cell_id": "cc00991e6f92404f97b5d1bbd550a5b6",
    "deepnote_cell_type": "markdown",
    "id": "bi8woOmSJqzi"
   },
   "source": [
    "## 2.1.2. Análisis de unicidad\n",
    "A continuación, se buscará determinar cuántas filas duplicadas hay en el dataset"
   ]
  },
  {
   "cell_type": "code",
   "execution_count": 98,
   "metadata": {
    "cell_id": "ea4b2c2d4a084c048cf154914c33ccd9",
    "colab": {
     "base_uri": "https://localhost:8080/"
    },
    "deepnote_cell_type": "code",
    "execution_context_id": "cac25676-6f04-46ac-a839-ae17a7654a45",
    "execution_millis": 1,
    "execution_start": 1730430963585,
    "id": "q8dECLc_JtEY",
    "outputId": "9f328fbc-10fe-4629-f3b9-d0f4ea3edb90",
    "source_hash": "26abb2ce"
   },
   "outputs": [
    {
     "name": "stdout",
     "output_type": "stream",
     "text": [
      "Se cuenta con 0 registros duplicados (0.00%)\n"
     ]
    }
   ],
   "source": [
    "registrosDuplicados = regiones_df.duplicated()\n",
    "totalDuplicados = registrosDuplicados.sum()\n",
    "totalOpiniones = regiones_df.shape[0]\n",
    "porcentajeDuplicados = 100.0 * totalDuplicados / totalOpiniones\n",
    "print(f\"Se cuenta con {totalDuplicados} registros duplicados ({porcentajeDuplicados:.2f}%)\")\n",
    "\n"
   ]
  },
  {
   "cell_type": "code",
   "execution_count": 99,
   "metadata": {},
   "outputs": [
    {
     "name": "stdout",
     "output_type": "stream",
     "text": [
      "Se cuenta con 0 registros duplicados (0.00%)\n"
     ]
    }
   ],
   "source": [
    "registrosDuplicados = regiones_df[[\"MUNICIPIO\",\"DEPARTAMENTO\"]].duplicated()\n",
    "totalDuplicados = registrosDuplicados.sum()\n",
    "totalOpiniones = regiones_df[[\"MUNICIPIO\",\"DEPARTAMENTO\"]].shape[0]\n",
    "porcentajeDuplicados = 100.0 * totalDuplicados / totalOpiniones\n",
    "print(f\"Se cuenta con {totalDuplicados} registros duplicados ({porcentajeDuplicados:.2f}%)\")\n"
   ]
  },
  {
   "cell_type": "markdown",
   "metadata": {
    "cell_id": "3fbdd357e87c47e797a5c5b606ed80b6",
    "deepnote_cell_type": "markdown",
    "id": "o4AJqOoXUmQ-"
   },
   "source": [
    "No hay registros duplicados, no hay problemas de unicidad.\n",
    "Tambien se puede ver que los municipios repetidos, son municipios homonimos, no se trata de municipios duplicados"
   ]
  },
  {
   "cell_type": "markdown",
   "metadata": {
    "cell_id": "3f04d9c088d140d98b3351dfd3d46ff3",
    "deepnote_cell_type": "markdown",
    "id": "FRM88NzK6U-J"
   },
   "source": [
    "## 2.1.3. Análisis de validez\n",
    "No se encontraron errores de validez\n"
   ]
  },
  {
   "cell_type": "markdown",
   "metadata": {
    "cell_id": "5c89d6e41feb4768aad4e3e99355738f",
    "deepnote_cell_type": "markdown",
    "id": "A1vuYKiZ6U-J"
   },
   "source": [
    "## 2.1.4. Análisis de consistencia\n",
    "\n",
    "No se encontraron errores de consistencia"
   ]
  },
  {
   "cell_type": "markdown",
   "metadata": {},
   "source": [
    "# 3 Preparación de los datos\n",
    "Si bien no existen problemas de calidad en los datos, el formato difiere con las fuentes principales. Por ejemplo, el archivo de defunciones se usan los codigos de municipio sin tener en cuenta el departamento, mientras que en los datos analizados en este notebook cada codigo del municipio inicia con el codigo del departamento. Para facilitiar la interoperabilidad, es necesario hacer que los formatos sean los mismos."
   ]
  },
  {
   "cell_type": "code",
   "execution_count": 100,
   "metadata": {},
   "outputs": [
    {
     "data": {
      "text/plain": [
       "0       001\n",
       "1       002\n",
       "2       004\n",
       "3       021\n",
       "4       030\n",
       "       ... \n",
       "1118    444\n",
       "1119    051\n",
       "1120    109\n",
       "1121    189\n",
       "1122    560\n",
       "Name: CÓDIGO DANE DEL MUNICIPIO, Length: 1123, dtype: object"
      ]
     },
     "execution_count": 100,
     "metadata": {},
     "output_type": "execute_result"
    }
   ],
   "source": [
    "\n",
    "regiones_df[\"CÓDIGO DANE DEL MUNICIPIO\"] = regiones_df[\"CÓDIGO DANE DEL MUNICIPIO\"].apply(lambda x: str(x).split('.')[1].ljust(3, '0') if '.' in str(x) else str(x).zfill(3))\n",
    "regiones_df[\"CÓDIGO DANE DEL MUNICIPIO\"]\n"
   ]
  },
  {
   "cell_type": "markdown",
   "metadata": {},
   "source": [
    "Finalmente, se exporta el dataframe con estos cambios"
   ]
  },
  {
   "cell_type": "code",
   "execution_count": 101,
   "metadata": {},
   "outputs": [],
   "source": [
    "regiones_df.to_csv(\"RegionesFormato.csv\", index=False)"
   ]
  },
  {
   "cell_type": "markdown",
   "metadata": {
    "cell_id": "1f321f8d80144472b8a68f6a43d6accf",
    "deepnote_cell_type": "markdown"
   },
   "source": [
    "# 4. Resumen de los cambios realizados\n",
    "Al haber analizado los datos, se encuentra que no se deben realizar modificaciones adicionales."
   ]
  }
 ],
 "metadata": {
  "deepnote_notebook_id": "7e14edd71479414985e39b6117c93986",
  "kernelspec": {
   "display_name": "Python 3",
   "language": "python",
   "name": "python3"
  },
  "language_info": {
   "codemirror_mode": {
    "name": "ipython",
    "version": 3
   },
   "file_extension": ".py",
   "mimetype": "text/x-python",
   "name": "python",
   "nbconvert_exporter": "python",
   "pygments_lexer": "ipython3",
   "version": "3.12.5"
  }
 },
 "nbformat": 4,
 "nbformat_minor": 0
}
