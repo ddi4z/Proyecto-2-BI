{
 "cells": [
  {
   "cell_type": "markdown",
   "metadata": {
    "cell_id": "d47e29e5a75047028affa347d9f31f31",
    "deepnote_cell_type": "markdown",
    "id": "TbJVdEgiT10x"
   },
   "source": [
    "# Análisis de Encuesta Nacional de Calidad de Vida - ECV\n",
    "\n",
    "## Integrantes - Grupo 15\n",
    "\n",
    "- Sara Sofia Cárdenas Rodríguez - 202214907\n",
    "- Daniel Felipe Diaz Moreno - 202210773\n",
    "- Juan Sebastián Urrea López - 201914710\n"
   ]
  },
  {
   "cell_type": "markdown",
   "metadata": {
    "cell_id": "dae9268966f3426ea18c27846fc4ee37",
    "deepnote_cell_type": "markdown",
    "id": "W8bV2RZ0T10x"
   },
   "source": [
    "## Los datos\n",
    "\n",
    "Se trabaja con un conjunto de datos para cada uno de los 4 años requeridos.\n"
   ]
  },
  {
   "cell_type": "markdown",
   "metadata": {
    "cell_id": "92d65db1ff7a4d5d95f0b94a5dca25f0",
    "deepnote_cell_type": "markdown",
    "id": "RVDZ5IMpT10y"
   },
   "source": [
    "## 1. Carga y Manipulación básica de los Datos"
   ]
  },
  {
   "cell_type": "code",
   "execution_count": 1,
   "metadata": {
    "cell_id": "25f89e9c22d54a83a38a71795dc6ebd5",
    "colab": {
     "base_uri": "https://localhost:8080/"
    },
    "deepnote_cell_type": "code",
    "execution_context_id": "cac25676-6f04-46ac-a839-ae17a7654a45",
    "execution_millis": 1107,
    "execution_start": 1730430956105,
    "id": "lFYczuz7T10x",
    "outputId": "9b3b137e-fca9-4c73-eaee-c2d918054ebd",
    "source_hash": "dda32890"
   },
   "outputs": [],
   "source": [
    "# Importaciones de bibliotecas\n",
    "import numpy as np\n",
    "import pandas as pd\n",
    "import matplotlib.pyplot as plt\n",
    "import seaborn as sns\n",
    "import scipy.stats as stats\n",
    "import sys\n",
    "import re\n",
    "import string\n",
    "import unicodedata\n",
    "\n",
    "# Importaciones de joblib\n",
    "from joblib import dump, load\n",
    "\n",
    "# Importaciones de sklearn\n",
    "from sklearn.base import BaseEstimator, RegressorMixin, ClassifierMixin\n",
    "from sklearn.decomposition import PCA\n",
    "from sklearn.model_selection import train_test_split\n",
    "from sklearn.pipeline import Pipeline, FeatureUnion\n",
    "from sklearn.compose import ColumnTransformer\n",
    "from sklearn.preprocessing import StandardScaler, FunctionTransformer\n",
    "from sklearn.feature_extraction.text import TfidfVectorizer, CountVectorizer, HashingVectorizer\n",
    "from sklearn import tree\n",
    "from sklearn.metrics import ConfusionMatrixDisplay"
   ]
  },
  {
   "cell_type": "code",
   "execution_count": 2,
   "metadata": {
    "cell_id": "26e8ef7ad1964c17a0ea26dec858c01b",
    "deepnote_cell_type": "code",
    "execution_context_id": "cac25676-6f04-46ac-a839-ae17a7654a45",
    "execution_millis": 4664,
    "execution_start": 1730430957269,
    "id": "fRFCIRjvT10y",
    "source_hash": "70469b0a"
   },
   "outputs": [
    {
     "name": "stdout",
     "output_type": "stream",
     "text": [
      "Las dimensiones de salud2017 son: (26500, 103)\n",
      "Las dimensiones de salud2018 son: (283012, 98)\n",
      "Las dimensiones de salud2021 son: (257589, 145)\n",
      "Las dimensiones de salud2022 son: (251925, 151)\n"
     ]
    }
   ],
   "source": [
    "salud2017 = pd.read_csv(\"Salud2017.csv\", delimiter=\";\")\n",
    "salud2018 = pd.read_csv(\"Salud2018.csv\", delimiter=\";\")\n",
    "salud2021 = pd.read_csv(\"Salud2021.csv\", delimiter=\",\")\n",
    "salud2022 = pd.read_csv(\"Salud2022.csv\", delimiter=\";\")\n",
    "\n",
    "print(f\"Las dimensiones de salud2017 son: {salud2017.shape}\")\n",
    "print(f\"Las dimensiones de salud2018 son: {salud2018.shape}\")\n",
    "print(f\"Las dimensiones de salud2021 son: {salud2021.shape}\")\n",
    "print(f\"Las dimensiones de salud2022 son: {salud2022.shape}\")"
   ]
  },
  {
   "cell_type": "markdown",
   "metadata": {
    "cell_id": "b3cbef35c6af4f3094914af93fc28893",
    "deepnote_cell_type": "markdown"
   },
   "source": [
    "Las variables candidatas descritas en el informe son las siguientes:\n",
    "\n",
    "- ¿Está afiliado(a) (cotizante o beneficiario(a)) a alguna entidad de seguridad social en salud? (Entidad Promotora de Salud - EPS o Entidad Promotora de Salud Subsidiada -EPS-S ) (P6090) \n",
    "\n",
    "- ¿Por qué razón principal no está afiliado(a) a una entidad de seguridad social en salud? (Entidad Promotora de Salud - EPS o Entidad Promotora de Salud Subsidiada - EPS-S) (P768) \n",
    "\n",
    "- ¿A cuál de los siguientes regímenes de seguridad social en salud está afiliado: (P6100) \n",
    "\n",
    "- En general, considera que la calidad del servicio de la entidad de seguridad social en salud a la que ______ está afiliado(a) es: (P6181) \n",
    "\n",
    "- ¿Está embarazada actualmente o ha tenido hijos? (P5672) \n",
    "\n",
    "- Si está embarazada actualmente, ¿asiste a control prenatal? (P5694) \n",
    "\n",
    "- ¿Durante este embarazo le han formulado suplementos vitamínicos (Sulfato ferroso, ácido fólico, calcio, etc.)? (P5695) \n",
    "\n",
    "Se procederá a evidenciar si estos atributos se encuentran en los cuatro archivos de datos que se tienen disponibles."
   ]
  },
  {
   "cell_type": "code",
   "execution_count": 3,
   "metadata": {
    "cell_id": "89c7542409c84bafa5de8438ac6d67c9",
    "colab": {
     "base_uri": "https://localhost:8080/"
    },
    "deepnote_cell_type": "code",
    "execution_context_id": "cac25676-6f04-46ac-a839-ae17a7654a45",
    "execution_millis": 0,
    "execution_start": 1730430961989,
    "id": "JMJGZJTgT10y",
    "outputId": "4a2fdb98-6d1e-405d-bbfd-d693d0b71a2b",
    "source_hash": "7a40138e"
   },
   "outputs": [
    {
     "name": "stdout",
     "output_type": "stream",
     "text": [
      "Las columnas de salud2017 son: ['P5672', 'P5694', 'P5695', 'P6090', 'P6100', 'P6181', 'P768']\n",
      "Las columnas de salud2018 son: ['P5672', 'P5694', 'P5695', 'P6090', 'P6100', 'P6181', 'P768']\n",
      "Las columnas de salud2021 son: ['P5694', 'P6090', 'P6100', 'P6181', 'P768']\n",
      "Las columnas de salud2022 son: ['P5694', 'P6090', 'P6100', 'P6181', 'P768']\n",
      "Las columnas en común son: {'P768', 'P6090', 'P6181', 'P5694', 'P6100'}\n",
      "Las columnas que no estan en todos los datasets son: {'P5695', 'P5672'}\n"
     ]
    }
   ],
   "source": [
    "variablesABuscar = set([\"P6090\", \"P768\", \"P6100\", \"P6181\", \"P5672\", \"P5694\", \"P5695\"])\n",
    "\n",
    "columnasSalud2017 = [col for col in salud2017.columns if col in variablesABuscar]\n",
    "columnasSalud2018 = [col for col in salud2018.columns if col in variablesABuscar]\n",
    "columnasSalud2021 = [col for col in salud2021.columns if col in variablesABuscar]\n",
    "columnasSalud2022 = [col for col in salud2022.columns if col in variablesABuscar]\n",
    "\n",
    "columnasSalud2017.sort()\n",
    "columnasSalud2018.sort()\n",
    "columnasSalud2021.sort()\n",
    "columnasSalud2022.sort()\n",
    "\n",
    "print(f\"Las columnas de salud2017 son: {columnasSalud2017}\")\n",
    "print(f\"Las columnas de salud2018 son: {columnasSalud2018}\")\n",
    "print(f\"Las columnas de salud2021 son: {columnasSalud2021}\")\n",
    "print(f\"Las columnas de salud2022 son: {columnasSalud2022}\")\n",
    "\n",
    "columnasEnComun = set(columnasSalud2017).intersection(set(columnasSalud2018)).intersection(set(columnasSalud2021)).intersection(set(columnasSalud2022))\n",
    "\n",
    "print(f\"Las columnas en común son: {columnasEnComun}\")\n",
    "print(f\"Las columnas que no estan en todos los datasets son: {variablesABuscar - columnasEnComun}\")"
   ]
  },
  {
   "cell_type": "markdown",
   "metadata": {
    "cell_id": "3979b49d8cf449c684ebbd3c0afca133",
    "deepnote_cell_type": "markdown"
   },
   "source": [
    "Con base en esto, se puede observar que no se encentran los siguientes atributos.\n",
    "\n",
    "- ¿Durante este embarazo le han formulado suplementos vitamínicos (Sulfato ferroso, ácido fólico, calcio, etc.)? (P5695)\n",
    "- ¿Está embarazada actualmente o ha tenido hijos? (P5672)\n",
    "\n",
    "Al consultar en los dos archivos si existia alguna manera de reemplazar estos datos, no se encontró manera para P5695. Sin embargo, si fue posible encontrar el atributo \n",
    "¿ha estado embarazada alguna vez en su vida? (P3335), la cual funge el mismo rol que P5672. Por lo tanto, se procederá a reemplazar P5672 por P3335 para estos dos archivos y se decidira no tener en cuenta P5695 en el analisis de datos"
   ]
  },
  {
   "cell_type": "code",
   "execution_count": 4,
   "metadata": {
    "cell_id": "54b7c4090477408ea26b112fd5180a4d",
    "deepnote_cell_type": "code",
    "execution_context_id": "cac25676-6f04-46ac-a839-ae17a7654a45",
    "execution_millis": 0,
    "execution_start": 1730430962041,
    "source_hash": "b819208a"
   },
   "outputs": [],
   "source": [
    "columnasSalud2017.remove(\"P5695\")\n",
    "columnasSalud2018.remove(\"P5695\")\n",
    "columnasSalud2021.append(\"P3335\")\n",
    "columnasSalud2022.append(\"P3335\")"
   ]
  },
  {
   "cell_type": "markdown",
   "metadata": {
    "cell_id": "030756896f1940928a84ddc070b8d410",
    "deepnote_cell_type": "markdown"
   },
   "source": [
    "Asimismo, para facilitiar su análisis, se procederá a cambiar los identificadores de las columnas por nombres más descriptivos."
   ]
  },
  {
   "cell_type": "code",
   "execution_count": 5,
   "metadata": {
    "cell_id": "8ad42816004d479fadd3d80205222f92",
    "deepnote_cell_type": "code",
    "execution_context_id": "cac25676-6f04-46ac-a839-ae17a7654a45",
    "execution_millis": 0,
    "execution_start": 1730430962097,
    "source_hash": "e5a60481"
   },
   "outputs": [],
   "source": [
    "idANombre = {\n",
    "    'P5694': '¿Asiste a control prenatal?',\n",
    "    'P6090': '¿Está afiliado?',\n",
    "    'P6100': '¿A qué régimen está afiliado?',\n",
    "    'P6181': '¿Cómo es la calidad del servicio?',\n",
    "    'P768': '¿Por qué no está afiliado?',\n",
    "    'P5672': '¿Está embarazada?',\n",
    "    'P3335': '¿Está embarazada?',\n",
    "}\n",
    "columnasSalud2017 = [idANombre[col] for col in columnasSalud2017]\n",
    "columnasSalud2018 = [idANombre[col] for col in columnasSalud2018]\n",
    "columnasSalud2021 = [idANombre[col] for col in columnasSalud2021]\n",
    "columnasSalud2022 = [idANombre[col] for col in columnasSalud2022]\n",
    "\n",
    "\n",
    "salud2017.rename(columns=idANombre, inplace=True)\n",
    "salud2018.rename(columns=idANombre, inplace=True)\n",
    "salud2021.rename(columns=idANombre, inplace=True)\n",
    "salud2022.rename(columns=idANombre, inplace=True)\n",
    "\n"
   ]
  },
  {
   "cell_type": "markdown",
   "metadata": {
    "cell_id": "b91663d2a3e842c4970fa328b778f1e7",
    "deepnote_cell_type": "markdown"
   },
   "source": [
    "Con esto, a continuación se presenta una muestra para cada uno de los archivos de datos disponibles."
   ]
  },
  {
   "cell_type": "code",
   "execution_count": 6,
   "metadata": {
    "cell_id": "cbdaf3bcce11477e92ef565c45ca629c",
    "colab": {
     "base_uri": "https://localhost:8080/"
    },
    "deepnote_cell_type": "code",
    "execution_context_id": "cac25676-6f04-46ac-a839-ae17a7654a45",
    "execution_millis": 0,
    "execution_start": 1730430962153,
    "id": "8cf97Fwsa4_9",
    "outputId": "b0330dd2-ba47-4e16-e8ab-d72936e4f916",
    "source_hash": "f1402d65"
   },
   "outputs": [
    {
     "data": {
      "text/html": [
       "<div>\n",
       "<style scoped>\n",
       "    .dataframe tbody tr th:only-of-type {\n",
       "        vertical-align: middle;\n",
       "    }\n",
       "\n",
       "    .dataframe tbody tr th {\n",
       "        vertical-align: top;\n",
       "    }\n",
       "\n",
       "    .dataframe thead th {\n",
       "        text-align: right;\n",
       "    }\n",
       "</style>\n",
       "<table border=\"1\" class=\"dataframe\">\n",
       "  <thead>\n",
       "    <tr style=\"text-align: right;\">\n",
       "      <th></th>\n",
       "      <th>¿Está embarazada?</th>\n",
       "      <th>¿Asiste a control prenatal?</th>\n",
       "      <th>¿Está afiliado?</th>\n",
       "      <th>¿A qué régimen está afiliado?</th>\n",
       "      <th>¿Cómo es la calidad del servicio?</th>\n",
       "      <th>¿Por qué no está afiliado?</th>\n",
       "    </tr>\n",
       "  </thead>\n",
       "  <tbody>\n",
       "    <tr>\n",
       "      <th>4073</th>\n",
       "      <td></td>\n",
       "      <td></td>\n",
       "      <td>1</td>\n",
       "      <td>1</td>\n",
       "      <td>2</td>\n",
       "      <td></td>\n",
       "    </tr>\n",
       "    <tr>\n",
       "      <th>23387</th>\n",
       "      <td></td>\n",
       "      <td></td>\n",
       "      <td>1</td>\n",
       "      <td>1</td>\n",
       "      <td>2</td>\n",
       "      <td></td>\n",
       "    </tr>\n",
       "    <tr>\n",
       "      <th>14682</th>\n",
       "      <td></td>\n",
       "      <td></td>\n",
       "      <td>1</td>\n",
       "      <td>1</td>\n",
       "      <td>2</td>\n",
       "      <td></td>\n",
       "    </tr>\n",
       "    <tr>\n",
       "      <th>20413</th>\n",
       "      <td></td>\n",
       "      <td></td>\n",
       "      <td>1</td>\n",
       "      <td>1</td>\n",
       "      <td>1</td>\n",
       "      <td></td>\n",
       "    </tr>\n",
       "    <tr>\n",
       "      <th>23657</th>\n",
       "      <td></td>\n",
       "      <td></td>\n",
       "      <td>1</td>\n",
       "      <td>1</td>\n",
       "      <td>2</td>\n",
       "      <td></td>\n",
       "    </tr>\n",
       "    <tr>\n",
       "      <th>23667</th>\n",
       "      <td></td>\n",
       "      <td></td>\n",
       "      <td>1</td>\n",
       "      <td>1</td>\n",
       "      <td>2</td>\n",
       "      <td></td>\n",
       "    </tr>\n",
       "    <tr>\n",
       "      <th>4683</th>\n",
       "      <td>2</td>\n",
       "      <td></td>\n",
       "      <td>1</td>\n",
       "      <td>3</td>\n",
       "      <td>2</td>\n",
       "      <td></td>\n",
       "    </tr>\n",
       "    <tr>\n",
       "      <th>15927</th>\n",
       "      <td></td>\n",
       "      <td></td>\n",
       "      <td>1</td>\n",
       "      <td>3</td>\n",
       "      <td>2</td>\n",
       "      <td></td>\n",
       "    </tr>\n",
       "    <tr>\n",
       "      <th>14178</th>\n",
       "      <td></td>\n",
       "      <td></td>\n",
       "      <td>1</td>\n",
       "      <td>1</td>\n",
       "      <td>1</td>\n",
       "      <td></td>\n",
       "    </tr>\n",
       "    <tr>\n",
       "      <th>18694</th>\n",
       "      <td></td>\n",
       "      <td></td>\n",
       "      <td>1</td>\n",
       "      <td>3</td>\n",
       "      <td>3</td>\n",
       "      <td></td>\n",
       "    </tr>\n",
       "  </tbody>\n",
       "</table>\n",
       "</div>"
      ],
      "text/plain": [
       "      ¿Está embarazada? ¿Asiste a control prenatal?  ¿Está afiliado?  \\\n",
       "4073                                                               1   \n",
       "23387                                                              1   \n",
       "14682                                                              1   \n",
       "20413                                                              1   \n",
       "23657                                                              1   \n",
       "23667                                                              1   \n",
       "4683                  2                                            1   \n",
       "15927                                                              1   \n",
       "14178                                                              1   \n",
       "18694                                                              1   \n",
       "\n",
       "      ¿A qué régimen está afiliado? ¿Cómo es la calidad del servicio?  \\\n",
       "4073                              1                                 2   \n",
       "23387                             1                                 2   \n",
       "14682                             1                                 2   \n",
       "20413                             1                                 1   \n",
       "23657                             1                                 2   \n",
       "23667                             1                                 2   \n",
       "4683                              3                                 2   \n",
       "15927                             3                                 2   \n",
       "14178                             1                                 1   \n",
       "18694                             3                                 3   \n",
       "\n",
       "      ¿Por qué no está afiliado?  \n",
       "4073                              \n",
       "23387                             \n",
       "14682                             \n",
       "20413                             \n",
       "23657                             \n",
       "23667                             \n",
       "4683                              \n",
       "15927                             \n",
       "14178                             \n",
       "18694                             "
      ]
     },
     "execution_count": 6,
     "metadata": {},
     "output_type": "execute_result"
    }
   ],
   "source": [
    "salud2017[columnasSalud2017].sample(10)"
   ]
  },
  {
   "cell_type": "code",
   "execution_count": 7,
   "metadata": {
    "cell_id": "7323151596664b03aefbfd08e82cbb5f",
    "deepnote_cell_type": "code",
    "execution_context_id": "cac25676-6f04-46ac-a839-ae17a7654a45",
    "execution_millis": 0,
    "execution_start": 1730430962205,
    "source_hash": "64076e1"
   },
   "outputs": [
    {
     "data": {
      "text/html": [
       "<div>\n",
       "<style scoped>\n",
       "    .dataframe tbody tr th:only-of-type {\n",
       "        vertical-align: middle;\n",
       "    }\n",
       "\n",
       "    .dataframe tbody tr th {\n",
       "        vertical-align: top;\n",
       "    }\n",
       "\n",
       "    .dataframe thead th {\n",
       "        text-align: right;\n",
       "    }\n",
       "</style>\n",
       "<table border=\"1\" class=\"dataframe\">\n",
       "  <thead>\n",
       "    <tr style=\"text-align: right;\">\n",
       "      <th></th>\n",
       "      <th>¿Está embarazada?</th>\n",
       "      <th>¿Asiste a control prenatal?</th>\n",
       "      <th>¿Está afiliado?</th>\n",
       "      <th>¿A qué régimen está afiliado?</th>\n",
       "      <th>¿Cómo es la calidad del servicio?</th>\n",
       "      <th>¿Por qué no está afiliado?</th>\n",
       "    </tr>\n",
       "  </thead>\n",
       "  <tbody>\n",
       "    <tr>\n",
       "      <th>272487</th>\n",
       "      <td></td>\n",
       "      <td></td>\n",
       "      <td>1</td>\n",
       "      <td>1</td>\n",
       "      <td>2</td>\n",
       "      <td></td>\n",
       "    </tr>\n",
       "    <tr>\n",
       "      <th>69383</th>\n",
       "      <td></td>\n",
       "      <td></td>\n",
       "      <td>1</td>\n",
       "      <td>3</td>\n",
       "      <td>3</td>\n",
       "      <td></td>\n",
       "    </tr>\n",
       "    <tr>\n",
       "      <th>55874</th>\n",
       "      <td></td>\n",
       "      <td></td>\n",
       "      <td>1</td>\n",
       "      <td>1</td>\n",
       "      <td>2</td>\n",
       "      <td></td>\n",
       "    </tr>\n",
       "    <tr>\n",
       "      <th>129890</th>\n",
       "      <td>2</td>\n",
       "      <td></td>\n",
       "      <td>1</td>\n",
       "      <td>3</td>\n",
       "      <td>3</td>\n",
       "      <td></td>\n",
       "    </tr>\n",
       "    <tr>\n",
       "      <th>193922</th>\n",
       "      <td></td>\n",
       "      <td></td>\n",
       "      <td>1</td>\n",
       "      <td>3</td>\n",
       "      <td>2</td>\n",
       "      <td></td>\n",
       "    </tr>\n",
       "    <tr>\n",
       "      <th>37558</th>\n",
       "      <td></td>\n",
       "      <td></td>\n",
       "      <td>1</td>\n",
       "      <td>3</td>\n",
       "      <td>2</td>\n",
       "      <td></td>\n",
       "    </tr>\n",
       "    <tr>\n",
       "      <th>212079</th>\n",
       "      <td></td>\n",
       "      <td></td>\n",
       "      <td>1</td>\n",
       "      <td>1</td>\n",
       "      <td>2</td>\n",
       "      <td></td>\n",
       "    </tr>\n",
       "    <tr>\n",
       "      <th>17080</th>\n",
       "      <td></td>\n",
       "      <td></td>\n",
       "      <td>1</td>\n",
       "      <td>3</td>\n",
       "      <td>2</td>\n",
       "      <td></td>\n",
       "    </tr>\n",
       "    <tr>\n",
       "      <th>194708</th>\n",
       "      <td></td>\n",
       "      <td></td>\n",
       "      <td>2</td>\n",
       "      <td></td>\n",
       "      <td></td>\n",
       "      <td>5</td>\n",
       "    </tr>\n",
       "    <tr>\n",
       "      <th>26127</th>\n",
       "      <td>2</td>\n",
       "      <td></td>\n",
       "      <td>1</td>\n",
       "      <td>3</td>\n",
       "      <td>2</td>\n",
       "      <td></td>\n",
       "    </tr>\n",
       "  </tbody>\n",
       "</table>\n",
       "</div>"
      ],
      "text/plain": [
       "       ¿Está embarazada? ¿Asiste a control prenatal?  ¿Está afiliado?  \\\n",
       "272487                                                              1   \n",
       "69383                                                               1   \n",
       "55874                                                               1   \n",
       "129890                 2                                            1   \n",
       "193922                                                              1   \n",
       "37558                                                               1   \n",
       "212079                                                              1   \n",
       "17080                                                               1   \n",
       "194708                                                              2   \n",
       "26127                  2                                            1   \n",
       "\n",
       "       ¿A qué régimen está afiliado? ¿Cómo es la calidad del servicio?  \\\n",
       "272487                             1                                 2   \n",
       "69383                              3                                 3   \n",
       "55874                              1                                 2   \n",
       "129890                             3                                 3   \n",
       "193922                             3                                 2   \n",
       "37558                              3                                 2   \n",
       "212079                             1                                 2   \n",
       "17080                              3                                 2   \n",
       "194708                                                                   \n",
       "26127                              3                                 2   \n",
       "\n",
       "       ¿Por qué no está afiliado?  \n",
       "272487                             \n",
       "69383                              \n",
       "55874                              \n",
       "129890                             \n",
       "193922                             \n",
       "37558                              \n",
       "212079                             \n",
       "17080                              \n",
       "194708                          5  \n",
       "26127                              "
      ]
     },
     "execution_count": 7,
     "metadata": {},
     "output_type": "execute_result"
    }
   ],
   "source": [
    "salud2018[columnasSalud2018].sample(10)"
   ]
  },
  {
   "cell_type": "code",
   "execution_count": 8,
   "metadata": {
    "cell_id": "f693e4fc1d9b4dd7803f96b630a92566",
    "deepnote_cell_type": "code",
    "execution_context_id": "cac25676-6f04-46ac-a839-ae17a7654a45",
    "execution_millis": 1,
    "execution_start": 1730430962253,
    "source_hash": "d1d58e60"
   },
   "outputs": [
    {
     "data": {
      "text/html": [
       "<div>\n",
       "<style scoped>\n",
       "    .dataframe tbody tr th:only-of-type {\n",
       "        vertical-align: middle;\n",
       "    }\n",
       "\n",
       "    .dataframe tbody tr th {\n",
       "        vertical-align: top;\n",
       "    }\n",
       "\n",
       "    .dataframe thead th {\n",
       "        text-align: right;\n",
       "    }\n",
       "</style>\n",
       "<table border=\"1\" class=\"dataframe\">\n",
       "  <thead>\n",
       "    <tr style=\"text-align: right;\">\n",
       "      <th></th>\n",
       "      <th>¿Asiste a control prenatal?</th>\n",
       "      <th>¿Está afiliado?</th>\n",
       "      <th>¿A qué régimen está afiliado?</th>\n",
       "      <th>¿Cómo es la calidad del servicio?</th>\n",
       "      <th>¿Por qué no está afiliado?</th>\n",
       "      <th>¿Está embarazada?</th>\n",
       "    </tr>\n",
       "  </thead>\n",
       "  <tbody>\n",
       "    <tr>\n",
       "      <th>113512</th>\n",
       "      <td>NaN</td>\n",
       "      <td>1</td>\n",
       "      <td>1.0</td>\n",
       "      <td>3.0</td>\n",
       "      <td>NaN</td>\n",
       "      <td>2.0</td>\n",
       "    </tr>\n",
       "    <tr>\n",
       "      <th>104829</th>\n",
       "      <td>NaN</td>\n",
       "      <td>1</td>\n",
       "      <td>3.0</td>\n",
       "      <td>3.0</td>\n",
       "      <td>NaN</td>\n",
       "      <td>2.0</td>\n",
       "    </tr>\n",
       "    <tr>\n",
       "      <th>123346</th>\n",
       "      <td>NaN</td>\n",
       "      <td>1</td>\n",
       "      <td>1.0</td>\n",
       "      <td>2.0</td>\n",
       "      <td>NaN</td>\n",
       "      <td>NaN</td>\n",
       "    </tr>\n",
       "    <tr>\n",
       "      <th>197379</th>\n",
       "      <td>NaN</td>\n",
       "      <td>1</td>\n",
       "      <td>3.0</td>\n",
       "      <td>1.0</td>\n",
       "      <td>NaN</td>\n",
       "      <td>NaN</td>\n",
       "    </tr>\n",
       "    <tr>\n",
       "      <th>235048</th>\n",
       "      <td>NaN</td>\n",
       "      <td>1</td>\n",
       "      <td>1.0</td>\n",
       "      <td>2.0</td>\n",
       "      <td>NaN</td>\n",
       "      <td>NaN</td>\n",
       "    </tr>\n",
       "    <tr>\n",
       "      <th>82591</th>\n",
       "      <td>NaN</td>\n",
       "      <td>1</td>\n",
       "      <td>1.0</td>\n",
       "      <td>2.0</td>\n",
       "      <td>NaN</td>\n",
       "      <td>2.0</td>\n",
       "    </tr>\n",
       "    <tr>\n",
       "      <th>128209</th>\n",
       "      <td>NaN</td>\n",
       "      <td>1</td>\n",
       "      <td>1.0</td>\n",
       "      <td>2.0</td>\n",
       "      <td>NaN</td>\n",
       "      <td>2.0</td>\n",
       "    </tr>\n",
       "    <tr>\n",
       "      <th>128992</th>\n",
       "      <td>NaN</td>\n",
       "      <td>1</td>\n",
       "      <td>1.0</td>\n",
       "      <td>2.0</td>\n",
       "      <td>NaN</td>\n",
       "      <td>1.0</td>\n",
       "    </tr>\n",
       "    <tr>\n",
       "      <th>217200</th>\n",
       "      <td>NaN</td>\n",
       "      <td>1</td>\n",
       "      <td>1.0</td>\n",
       "      <td>1.0</td>\n",
       "      <td>NaN</td>\n",
       "      <td>NaN</td>\n",
       "    </tr>\n",
       "    <tr>\n",
       "      <th>115537</th>\n",
       "      <td>NaN</td>\n",
       "      <td>1</td>\n",
       "      <td>3.0</td>\n",
       "      <td>1.0</td>\n",
       "      <td>NaN</td>\n",
       "      <td>NaN</td>\n",
       "    </tr>\n",
       "  </tbody>\n",
       "</table>\n",
       "</div>"
      ],
      "text/plain": [
       "        ¿Asiste a control prenatal?  ¿Está afiliado?  \\\n",
       "113512                          NaN                1   \n",
       "104829                          NaN                1   \n",
       "123346                          NaN                1   \n",
       "197379                          NaN                1   \n",
       "235048                          NaN                1   \n",
       "82591                           NaN                1   \n",
       "128209                          NaN                1   \n",
       "128992                          NaN                1   \n",
       "217200                          NaN                1   \n",
       "115537                          NaN                1   \n",
       "\n",
       "        ¿A qué régimen está afiliado?  ¿Cómo es la calidad del servicio?  \\\n",
       "113512                            1.0                                3.0   \n",
       "104829                            3.0                                3.0   \n",
       "123346                            1.0                                2.0   \n",
       "197379                            3.0                                1.0   \n",
       "235048                            1.0                                2.0   \n",
       "82591                             1.0                                2.0   \n",
       "128209                            1.0                                2.0   \n",
       "128992                            1.0                                2.0   \n",
       "217200                            1.0                                1.0   \n",
       "115537                            3.0                                1.0   \n",
       "\n",
       "        ¿Por qué no está afiliado?  ¿Está embarazada?  \n",
       "113512                         NaN                2.0  \n",
       "104829                         NaN                2.0  \n",
       "123346                         NaN                NaN  \n",
       "197379                         NaN                NaN  \n",
       "235048                         NaN                NaN  \n",
       "82591                          NaN                2.0  \n",
       "128209                         NaN                2.0  \n",
       "128992                         NaN                1.0  \n",
       "217200                         NaN                NaN  \n",
       "115537                         NaN                NaN  "
      ]
     },
     "execution_count": 8,
     "metadata": {},
     "output_type": "execute_result"
    }
   ],
   "source": [
    "salud2021[columnasSalud2021].sample(10)"
   ]
  },
  {
   "cell_type": "code",
   "execution_count": 9,
   "metadata": {
    "cell_id": "068cca06cf8a4877a21271cf4a118802",
    "deepnote_cell_type": "code",
    "execution_context_id": "cac25676-6f04-46ac-a839-ae17a7654a45",
    "execution_millis": 0,
    "execution_start": 1730430962301,
    "source_hash": "8676511"
   },
   "outputs": [
    {
     "data": {
      "text/html": [
       "<div>\n",
       "<style scoped>\n",
       "    .dataframe tbody tr th:only-of-type {\n",
       "        vertical-align: middle;\n",
       "    }\n",
       "\n",
       "    .dataframe tbody tr th {\n",
       "        vertical-align: top;\n",
       "    }\n",
       "\n",
       "    .dataframe thead th {\n",
       "        text-align: right;\n",
       "    }\n",
       "</style>\n",
       "<table border=\"1\" class=\"dataframe\">\n",
       "  <thead>\n",
       "    <tr style=\"text-align: right;\">\n",
       "      <th></th>\n",
       "      <th>¿Asiste a control prenatal?</th>\n",
       "      <th>¿Está afiliado?</th>\n",
       "      <th>¿A qué régimen está afiliado?</th>\n",
       "      <th>¿Cómo es la calidad del servicio?</th>\n",
       "      <th>¿Por qué no está afiliado?</th>\n",
       "      <th>¿Está embarazada?</th>\n",
       "    </tr>\n",
       "  </thead>\n",
       "  <tbody>\n",
       "    <tr>\n",
       "      <th>206803</th>\n",
       "      <td>NaN</td>\n",
       "      <td>1</td>\n",
       "      <td>3.0</td>\n",
       "      <td>2.0</td>\n",
       "      <td>NaN</td>\n",
       "      <td>NaN</td>\n",
       "    </tr>\n",
       "    <tr>\n",
       "      <th>24936</th>\n",
       "      <td>NaN</td>\n",
       "      <td>1</td>\n",
       "      <td>1.0</td>\n",
       "      <td>2.0</td>\n",
       "      <td>NaN</td>\n",
       "      <td>NaN</td>\n",
       "    </tr>\n",
       "    <tr>\n",
       "      <th>199267</th>\n",
       "      <td>NaN</td>\n",
       "      <td>1</td>\n",
       "      <td>3.0</td>\n",
       "      <td>9.0</td>\n",
       "      <td>NaN</td>\n",
       "      <td>NaN</td>\n",
       "    </tr>\n",
       "    <tr>\n",
       "      <th>10321</th>\n",
       "      <td>NaN</td>\n",
       "      <td>1</td>\n",
       "      <td>3.0</td>\n",
       "      <td>2.0</td>\n",
       "      <td>NaN</td>\n",
       "      <td>NaN</td>\n",
       "    </tr>\n",
       "    <tr>\n",
       "      <th>16231</th>\n",
       "      <td>NaN</td>\n",
       "      <td>1</td>\n",
       "      <td>3.0</td>\n",
       "      <td>2.0</td>\n",
       "      <td>NaN</td>\n",
       "      <td>1.0</td>\n",
       "    </tr>\n",
       "    <tr>\n",
       "      <th>28797</th>\n",
       "      <td>NaN</td>\n",
       "      <td>1</td>\n",
       "      <td>3.0</td>\n",
       "      <td>2.0</td>\n",
       "      <td>NaN</td>\n",
       "      <td>1.0</td>\n",
       "    </tr>\n",
       "    <tr>\n",
       "      <th>122723</th>\n",
       "      <td>NaN</td>\n",
       "      <td>1</td>\n",
       "      <td>3.0</td>\n",
       "      <td>2.0</td>\n",
       "      <td>NaN</td>\n",
       "      <td>NaN</td>\n",
       "    </tr>\n",
       "    <tr>\n",
       "      <th>68751</th>\n",
       "      <td>NaN</td>\n",
       "      <td>1</td>\n",
       "      <td>3.0</td>\n",
       "      <td>2.0</td>\n",
       "      <td>NaN</td>\n",
       "      <td>1.0</td>\n",
       "    </tr>\n",
       "    <tr>\n",
       "      <th>110516</th>\n",
       "      <td>NaN</td>\n",
       "      <td>1</td>\n",
       "      <td>1.0</td>\n",
       "      <td>3.0</td>\n",
       "      <td>NaN</td>\n",
       "      <td>2.0</td>\n",
       "    </tr>\n",
       "    <tr>\n",
       "      <th>105712</th>\n",
       "      <td>NaN</td>\n",
       "      <td>1</td>\n",
       "      <td>3.0</td>\n",
       "      <td>2.0</td>\n",
       "      <td>NaN</td>\n",
       "      <td>2.0</td>\n",
       "    </tr>\n",
       "  </tbody>\n",
       "</table>\n",
       "</div>"
      ],
      "text/plain": [
       "        ¿Asiste a control prenatal?  ¿Está afiliado?  \\\n",
       "206803                          NaN                1   \n",
       "24936                           NaN                1   \n",
       "199267                          NaN                1   \n",
       "10321                           NaN                1   \n",
       "16231                           NaN                1   \n",
       "28797                           NaN                1   \n",
       "122723                          NaN                1   \n",
       "68751                           NaN                1   \n",
       "110516                          NaN                1   \n",
       "105712                          NaN                1   \n",
       "\n",
       "        ¿A qué régimen está afiliado?  ¿Cómo es la calidad del servicio?  \\\n",
       "206803                            3.0                                2.0   \n",
       "24936                             1.0                                2.0   \n",
       "199267                            3.0                                9.0   \n",
       "10321                             3.0                                2.0   \n",
       "16231                             3.0                                2.0   \n",
       "28797                             3.0                                2.0   \n",
       "122723                            3.0                                2.0   \n",
       "68751                             3.0                                2.0   \n",
       "110516                            1.0                                3.0   \n",
       "105712                            3.0                                2.0   \n",
       "\n",
       "        ¿Por qué no está afiliado?  ¿Está embarazada?  \n",
       "206803                         NaN                NaN  \n",
       "24936                          NaN                NaN  \n",
       "199267                         NaN                NaN  \n",
       "10321                          NaN                NaN  \n",
       "16231                          NaN                1.0  \n",
       "28797                          NaN                1.0  \n",
       "122723                         NaN                NaN  \n",
       "68751                          NaN                1.0  \n",
       "110516                         NaN                2.0  \n",
       "105712                         NaN                2.0  "
      ]
     },
     "execution_count": 9,
     "metadata": {},
     "output_type": "execute_result"
    }
   ],
   "source": [
    "salud2022[columnasSalud2022].sample(10)"
   ]
  },
  {
   "cell_type": "markdown",
   "metadata": {
    "cell_id": "dd19c38e8bff4824ac9d5b0b50aa2b4e",
    "deepnote_cell_type": "markdown",
    "id": "phYhHPVC6U9_"
   },
   "source": [
    "Observamos que muchos datos son nulos, esto se debe a que varias preguntas son mutuamente excluyentes, y otras son dependientes de otras"
   ]
  },
  {
   "cell_type": "markdown",
   "metadata": {
    "cell_id": "e1896940d2ae48979bc7753920b8fc26",
    "deepnote_cell_type": "markdown"
   },
   "source": [
    "Finalmente, se muestra el tipo de dato para cada atributo por cada archivo de datos."
   ]
  },
  {
   "cell_type": "code",
   "execution_count": 10,
   "metadata": {
    "cell_id": "c37d89aa55564643a6f8112d1c292fae",
    "deepnote_cell_type": "code",
    "execution_context_id": "cac25676-6f04-46ac-a839-ae17a7654a45",
    "execution_millis": 0,
    "execution_start": 1730430962349,
    "source_hash": "db0467fc"
   },
   "outputs": [
    {
     "name": "stdout",
     "output_type": "stream",
     "text": [
      "<class 'pandas.core.frame.DataFrame'>\n",
      "RangeIndex: 26500 entries, 0 to 26499\n",
      "Data columns (total 6 columns):\n",
      " #   Column                             Non-Null Count  Dtype \n",
      "---  ------                             --------------  ----- \n",
      " 0   ¿Está embarazada?                  26500 non-null  object\n",
      " 1   ¿Asiste a control prenatal?        26500 non-null  object\n",
      " 2   ¿Está afiliado?                    26500 non-null  int64 \n",
      " 3   ¿A qué régimen está afiliado?      26500 non-null  object\n",
      " 4   ¿Cómo es la calidad del servicio?  26500 non-null  object\n",
      " 5   ¿Por qué no está afiliado?         26500 non-null  object\n",
      "dtypes: int64(1), object(5)\n",
      "memory usage: 1.2+ MB\n"
     ]
    }
   ],
   "source": [
    "salud2017[columnasSalud2017].info()"
   ]
  },
  {
   "cell_type": "code",
   "execution_count": 11,
   "metadata": {
    "cell_id": "7ff9a44f7d86494cb37c66a44c4108a4",
    "deepnote_cell_type": "code",
    "execution_context_id": "cac25676-6f04-46ac-a839-ae17a7654a45",
    "execution_millis": 7,
    "execution_start": 1730430962397,
    "source_hash": "605fcd8d"
   },
   "outputs": [
    {
     "name": "stdout",
     "output_type": "stream",
     "text": [
      "<class 'pandas.core.frame.DataFrame'>\n",
      "RangeIndex: 283012 entries, 0 to 283011\n",
      "Data columns (total 6 columns):\n",
      " #   Column                             Non-Null Count   Dtype \n",
      "---  ------                             --------------   ----- \n",
      " 0   ¿Está embarazada?                  283012 non-null  object\n",
      " 1   ¿Asiste a control prenatal?        283012 non-null  object\n",
      " 2   ¿Está afiliado?                    283012 non-null  int64 \n",
      " 3   ¿A qué régimen está afiliado?      283012 non-null  object\n",
      " 4   ¿Cómo es la calidad del servicio?  283012 non-null  object\n",
      " 5   ¿Por qué no está afiliado?         283012 non-null  object\n",
      "dtypes: int64(1), object(5)\n",
      "memory usage: 13.0+ MB\n"
     ]
    }
   ],
   "source": [
    "salud2018[columnasSalud2018].info()"
   ]
  },
  {
   "cell_type": "code",
   "execution_count": 12,
   "metadata": {
    "cell_id": "581b1c22ec9147da8b4b349e0426f379",
    "deepnote_cell_type": "code",
    "execution_context_id": "cac25676-6f04-46ac-a839-ae17a7654a45",
    "execution_millis": 0,
    "execution_start": 1730430962453,
    "source_hash": "b406e44c"
   },
   "outputs": [
    {
     "name": "stdout",
     "output_type": "stream",
     "text": [
      "<class 'pandas.core.frame.DataFrame'>\n",
      "RangeIndex: 257589 entries, 0 to 257588\n",
      "Data columns (total 6 columns):\n",
      " #   Column                             Non-Null Count   Dtype  \n",
      "---  ------                             --------------   -----  \n",
      " 0   ¿Asiste a control prenatal?        1439 non-null    float64\n",
      " 1   ¿Está afiliado?                    257589 non-null  int64  \n",
      " 2   ¿A qué régimen está afiliado?      240869 non-null  float64\n",
      " 3   ¿Cómo es la calidad del servicio?  240152 non-null  float64\n",
      " 4   ¿Por qué no está afiliado?         15579 non-null   float64\n",
      " 5   ¿Está embarazada?                  113214 non-null  float64\n",
      "dtypes: float64(5), int64(1)\n",
      "memory usage: 11.8 MB\n"
     ]
    }
   ],
   "source": [
    "salud2021[columnasSalud2021].info()"
   ]
  },
  {
   "cell_type": "code",
   "execution_count": 13,
   "metadata": {
    "cell_id": "6f58c07342564881ae4916b9b84a6767",
    "deepnote_cell_type": "code",
    "execution_context_id": "cac25676-6f04-46ac-a839-ae17a7654a45",
    "execution_millis": 0,
    "execution_start": 1730430962501,
    "source_hash": "233a2e53"
   },
   "outputs": [
    {
     "name": "stdout",
     "output_type": "stream",
     "text": [
      "<class 'pandas.core.frame.DataFrame'>\n",
      "RangeIndex: 251925 entries, 0 to 251924\n",
      "Data columns (total 6 columns):\n",
      " #   Column                             Non-Null Count   Dtype  \n",
      "---  ------                             --------------   -----  \n",
      " 0   ¿Asiste a control prenatal?        1302 non-null    float64\n",
      " 1   ¿Está afiliado?                    251925 non-null  int64  \n",
      " 2   ¿A qué régimen está afiliado?      239356 non-null  float64\n",
      " 3   ¿Cómo es la calidad del servicio?  238802 non-null  float64\n",
      " 4   ¿Por qué no está afiliado?         11496 non-null   float64\n",
      " 5   ¿Está embarazada?                  111290 non-null  float64\n",
      "dtypes: float64(5), int64(1)\n",
      "memory usage: 11.5 MB\n"
     ]
    }
   ],
   "source": [
    "salud2022[columnasSalud2022].info()"
   ]
  },
  {
   "cell_type": "markdown",
   "metadata": {
    "cell_id": "609870c174dd421db4f40f94ab8210f3",
    "deepnote_cell_type": "markdown"
   },
   "source": [
    "Vemos que hay problemas de consistencia en los tipos de datos, pues los atributos enteros de 2021 y 2022 aparecen como textos en 2017 y 2018. Al usar la siguiente linea de codigo, se ve que los valores nulos se toman como \" \", por tal razon se procedera a reemplazar estos valores por valores nulos"
   ]
  },
  {
   "cell_type": "code",
   "execution_count": 14,
   "metadata": {
    "cell_id": "7642ba8d2918421fa862d8c1f3e3f5fc",
    "deepnote_cell_type": "code",
    "execution_context_id": "cac25676-6f04-46ac-a839-ae17a7654a45",
    "execution_millis": 0,
    "execution_start": 1730430962549,
    "source_hash": "9f241e26"
   },
   "outputs": [
    {
     "data": {
      "text/plain": [
       "array([' ', '3', '2', '1'], dtype=object)"
      ]
     },
     "execution_count": 14,
     "metadata": {},
     "output_type": "execute_result"
    }
   ],
   "source": [
    "salud2017[\"¿Asiste a control prenatal?\"].unique()"
   ]
  },
  {
   "cell_type": "code",
   "execution_count": 15,
   "metadata": {
    "cell_id": "652a8331b9f34cddb8242a0e496edf5c",
    "deepnote_cell_type": "code",
    "execution_context_id": "cac25676-6f04-46ac-a839-ae17a7654a45",
    "execution_millis": 697,
    "execution_start": 1730430962609,
    "source_hash": "a93738a7"
   },
   "outputs": [],
   "source": [
    "for col in columnasSalud2017:\n",
    "    salud2017[col] = pd.to_numeric(salud2017[col], errors=\"coerce\")\n",
    "\n",
    "for col in columnasSalud2018:\n",
    "    salud2018[col] = pd.to_numeric(salud2018[col], errors=\"coerce\")"
   ]
  },
  {
   "cell_type": "code",
   "execution_count": 16,
   "metadata": {
    "cell_id": "6223d852fa184a4592e0aeae14258d19",
    "deepnote_cell_type": "code",
    "execution_context_id": "cac25676-6f04-46ac-a839-ae17a7654a45",
    "execution_millis": 0,
    "execution_start": 1730430963357,
    "source_hash": "db0467fc"
   },
   "outputs": [
    {
     "name": "stdout",
     "output_type": "stream",
     "text": [
      "<class 'pandas.core.frame.DataFrame'>\n",
      "RangeIndex: 26500 entries, 0 to 26499\n",
      "Data columns (total 6 columns):\n",
      " #   Column                             Non-Null Count  Dtype  \n",
      "---  ------                             --------------  -----  \n",
      " 0   ¿Está embarazada?                  8353 non-null   float64\n",
      " 1   ¿Asiste a control prenatal?        4307 non-null   float64\n",
      " 2   ¿Está afiliado?                    26500 non-null  int64  \n",
      " 3   ¿A qué régimen está afiliado?      25243 non-null  float64\n",
      " 4   ¿Cómo es la calidad del servicio?  25187 non-null  float64\n",
      " 5   ¿Por qué no está afiliado?         1214 non-null   float64\n",
      "dtypes: float64(5), int64(1)\n",
      "memory usage: 1.2 MB\n"
     ]
    }
   ],
   "source": [
    "salud2017[columnasSalud2017].info()"
   ]
  },
  {
   "cell_type": "code",
   "execution_count": 17,
   "metadata": {
    "cell_id": "6ee26732349e4067a68acd8e2d4d1fca",
    "deepnote_cell_type": "code",
    "execution_context_id": "cac25676-6f04-46ac-a839-ae17a7654a45",
    "execution_millis": 0,
    "execution_start": 1730430963413,
    "source_hash": "605fcd8d"
   },
   "outputs": [
    {
     "name": "stdout",
     "output_type": "stream",
     "text": [
      "<class 'pandas.core.frame.DataFrame'>\n",
      "RangeIndex: 283012 entries, 0 to 283011\n",
      "Data columns (total 6 columns):\n",
      " #   Column                             Non-Null Count   Dtype  \n",
      "---  ------                             --------------   -----  \n",
      " 0   ¿Está embarazada?                  85837 non-null   float64\n",
      " 1   ¿Asiste a control prenatal?        48340 non-null   float64\n",
      " 2   ¿Está afiliado?                    283012 non-null  int64  \n",
      " 3   ¿A qué régimen está afiliado?      264794 non-null  float64\n",
      " 4   ¿Cómo es la calidad del servicio?  264198 non-null  float64\n",
      " 5   ¿Por qué no está afiliado?         17166 non-null   float64\n",
      "dtypes: float64(5), int64(1)\n",
      "memory usage: 13.0 MB\n"
     ]
    }
   ],
   "source": [
    "salud2018[columnasSalud2018].info()"
   ]
  },
  {
   "cell_type": "code",
   "execution_count": 18,
   "metadata": {
    "cell_id": "a1050bd59f984ffc8dc80ea130763e01",
    "deepnote_cell_type": "code",
    "execution_context_id": "cac25676-6f04-46ac-a839-ae17a7654a45",
    "execution_millis": 16,
    "execution_start": 1730430963465,
    "source_hash": "5c81f768"
   },
   "outputs": [
    {
     "data": {
      "text/html": [
       "<div>\n",
       "<style scoped>\n",
       "    .dataframe tbody tr th:only-of-type {\n",
       "        vertical-align: middle;\n",
       "    }\n",
       "\n",
       "    .dataframe tbody tr th {\n",
       "        vertical-align: top;\n",
       "    }\n",
       "\n",
       "    .dataframe thead th {\n",
       "        text-align: right;\n",
       "    }\n",
       "</style>\n",
       "<table border=\"1\" class=\"dataframe\">\n",
       "  <thead>\n",
       "    <tr style=\"text-align: right;\">\n",
       "      <th></th>\n",
       "      <th>¿Está embarazada?</th>\n",
       "      <th>¿Asiste a control prenatal?</th>\n",
       "      <th>¿Está afiliado?</th>\n",
       "      <th>¿A qué régimen está afiliado?</th>\n",
       "      <th>¿Cómo es la calidad del servicio?</th>\n",
       "      <th>¿Por qué no está afiliado?</th>\n",
       "      <th>año</th>\n",
       "    </tr>\n",
       "  </thead>\n",
       "  <tbody>\n",
       "    <tr>\n",
       "      <th>783415</th>\n",
       "      <td>1.0</td>\n",
       "      <td>NaN</td>\n",
       "      <td>1</td>\n",
       "      <td>3.0</td>\n",
       "      <td>2.0</td>\n",
       "      <td>NaN</td>\n",
       "      <td>2022</td>\n",
       "    </tr>\n",
       "    <tr>\n",
       "      <th>59107</th>\n",
       "      <td>NaN</td>\n",
       "      <td>NaN</td>\n",
       "      <td>1</td>\n",
       "      <td>1.0</td>\n",
       "      <td>3.0</td>\n",
       "      <td>NaN</td>\n",
       "      <td>2018</td>\n",
       "    </tr>\n",
       "    <tr>\n",
       "      <th>734911</th>\n",
       "      <td>NaN</td>\n",
       "      <td>NaN</td>\n",
       "      <td>2</td>\n",
       "      <td>NaN</td>\n",
       "      <td>NaN</td>\n",
       "      <td>7.0</td>\n",
       "      <td>2022</td>\n",
       "    </tr>\n",
       "    <tr>\n",
       "      <th>623967</th>\n",
       "      <td>1.0</td>\n",
       "      <td>NaN</td>\n",
       "      <td>1</td>\n",
       "      <td>3.0</td>\n",
       "      <td>2.0</td>\n",
       "      <td>NaN</td>\n",
       "      <td>2022</td>\n",
       "    </tr>\n",
       "    <tr>\n",
       "      <th>479129</th>\n",
       "      <td>2.0</td>\n",
       "      <td>NaN</td>\n",
       "      <td>1</td>\n",
       "      <td>3.0</td>\n",
       "      <td>2.0</td>\n",
       "      <td>NaN</td>\n",
       "      <td>2021</td>\n",
       "    </tr>\n",
       "    <tr>\n",
       "      <th>617014</th>\n",
       "      <td>1.0</td>\n",
       "      <td>NaN</td>\n",
       "      <td>2</td>\n",
       "      <td>NaN</td>\n",
       "      <td>NaN</td>\n",
       "      <td>6.0</td>\n",
       "      <td>2022</td>\n",
       "    </tr>\n",
       "    <tr>\n",
       "      <th>319580</th>\n",
       "      <td>NaN</td>\n",
       "      <td>NaN</td>\n",
       "      <td>1</td>\n",
       "      <td>1.0</td>\n",
       "      <td>2.0</td>\n",
       "      <td>NaN</td>\n",
       "      <td>2021</td>\n",
       "    </tr>\n",
       "    <tr>\n",
       "      <th>679560</th>\n",
       "      <td>NaN</td>\n",
       "      <td>NaN</td>\n",
       "      <td>1</td>\n",
       "      <td>3.0</td>\n",
       "      <td>2.0</td>\n",
       "      <td>NaN</td>\n",
       "      <td>2022</td>\n",
       "    </tr>\n",
       "    <tr>\n",
       "      <th>318967</th>\n",
       "      <td>1.0</td>\n",
       "      <td>NaN</td>\n",
       "      <td>1</td>\n",
       "      <td>3.0</td>\n",
       "      <td>2.0</td>\n",
       "      <td>NaN</td>\n",
       "      <td>2021</td>\n",
       "    </tr>\n",
       "    <tr>\n",
       "      <th>767688</th>\n",
       "      <td>2.0</td>\n",
       "      <td>NaN</td>\n",
       "      <td>1</td>\n",
       "      <td>3.0</td>\n",
       "      <td>2.0</td>\n",
       "      <td>NaN</td>\n",
       "      <td>2022</td>\n",
       "    </tr>\n",
       "  </tbody>\n",
       "</table>\n",
       "</div>"
      ],
      "text/plain": [
       "        ¿Está embarazada?  ¿Asiste a control prenatal?  ¿Está afiliado?  \\\n",
       "783415                1.0                          NaN                1   \n",
       "59107                 NaN                          NaN                1   \n",
       "734911                NaN                          NaN                2   \n",
       "623967                1.0                          NaN                1   \n",
       "479129                2.0                          NaN                1   \n",
       "617014                1.0                          NaN                2   \n",
       "319580                NaN                          NaN                1   \n",
       "679560                NaN                          NaN                1   \n",
       "318967                1.0                          NaN                1   \n",
       "767688                2.0                          NaN                1   \n",
       "\n",
       "        ¿A qué régimen está afiliado?  ¿Cómo es la calidad del servicio?  \\\n",
       "783415                            3.0                                2.0   \n",
       "59107                             1.0                                3.0   \n",
       "734911                            NaN                                NaN   \n",
       "623967                            3.0                                2.0   \n",
       "479129                            3.0                                2.0   \n",
       "617014                            NaN                                NaN   \n",
       "319580                            1.0                                2.0   \n",
       "679560                            3.0                                2.0   \n",
       "318967                            3.0                                2.0   \n",
       "767688                            3.0                                2.0   \n",
       "\n",
       "        ¿Por qué no está afiliado?   año  \n",
       "783415                         NaN  2022  \n",
       "59107                          NaN  2018  \n",
       "734911                         7.0  2022  \n",
       "623967                         NaN  2022  \n",
       "479129                         NaN  2021  \n",
       "617014                         6.0  2022  \n",
       "319580                         NaN  2021  \n",
       "679560                         NaN  2022  \n",
       "318967                         NaN  2021  \n",
       "767688                         NaN  2022  "
      ]
     },
     "execution_count": 18,
     "metadata": {},
     "output_type": "execute_result"
    }
   ],
   "source": [
    "salud2017['año'] = 2017\n",
    "salud2018['año'] = 2018\n",
    "salud2021['año'] = 2021\n",
    "salud2022['año'] = 2022\n",
    "\n",
    "salud_df = pd.concat([salud2017[columnasSalud2017 + [\"año\"]], salud2018[columnasSalud2018+ [\"año\"]], salud2021[columnasSalud2021+ [\"año\"]], salud2022[columnasSalud2022+ [\"año\"]]], axis=0)\n",
    "salud_df.reset_index(drop=True, inplace=True)\n",
    "salud_df.sample(10)"
   ]
  },
  {
   "cell_type": "markdown",
   "metadata": {
    "cell_id": "5f6cacc01bdb49a9a5b090746444a1ef",
    "deepnote_cell_type": "markdown",
    "id": "xhd-VBJxT10z"
   },
   "source": [
    "## 2. Entendimiento de los datos"
   ]
  },
  {
   "cell_type": "markdown",
   "metadata": {
    "cell_id": "123e99c6584a4eafb7e966a9537031e9",
    "deepnote_cell_type": "markdown",
    "id": "6hpqAaCfJgVx"
   },
   "source": [
    "## 2.1. Análisis de calidad de datos\n",
    "\n",
    "\n",
    "\n"
   ]
  },
  {
   "cell_type": "markdown",
   "metadata": {
    "cell_id": "87edba73baf94951b280f882d8907990",
    "deepnote_cell_type": "markdown",
    "id": "bW2FKJVfT10z"
   },
   "source": [
    "## 2.1.1. Análisis de completitud\n",
    "A continuación, se presentan los porcentajes de completitud e incompletitud para cada uno de los atributos."
   ]
  },
  {
   "cell_type": "code",
   "execution_count": 19,
   "metadata": {
    "cell_id": "34ecce578255454785274ccafb78f38a",
    "colab": {
     "base_uri": "https://localhost:8080/",
     "height": 112
    },
    "deepnote_cell_type": "code",
    "execution_context_id": "cac25676-6f04-46ac-a839-ae17a7654a45",
    "execution_millis": 1,
    "execution_start": 1730430963533,
    "id": "Z_X2Pl-pT10z",
    "outputId": "67512146-df91-46fa-d5b6-310dd36c7915",
    "source_hash": "859ec5d5"
   },
   "outputs": [
    {
     "data": {
      "text/html": [
       "<div>\n",
       "<style scoped>\n",
       "    .dataframe tbody tr th:only-of-type {\n",
       "        vertical-align: middle;\n",
       "    }\n",
       "\n",
       "    .dataframe tbody tr th {\n",
       "        vertical-align: top;\n",
       "    }\n",
       "\n",
       "    .dataframe thead th {\n",
       "        text-align: right;\n",
       "    }\n",
       "</style>\n",
       "<table border=\"1\" class=\"dataframe\">\n",
       "  <thead>\n",
       "    <tr style=\"text-align: right;\">\n",
       "      <th></th>\n",
       "      <th>Atributo</th>\n",
       "      <th>Completitud (%)</th>\n",
       "      <th>Incompletitud (%)</th>\n",
       "    </tr>\n",
       "  </thead>\n",
       "  <tbody>\n",
       "    <tr>\n",
       "      <th>0</th>\n",
       "      <td>¿Por qué no está afiliado?</td>\n",
       "      <td>5.549885</td>\n",
       "      <td>94.450115</td>\n",
       "    </tr>\n",
       "    <tr>\n",
       "      <th>1</th>\n",
       "      <td>¿Asiste a control prenatal?</td>\n",
       "      <td>6.762667</td>\n",
       "      <td>93.237333</td>\n",
       "    </tr>\n",
       "    <tr>\n",
       "      <th>2</th>\n",
       "      <td>¿Está embarazada?</td>\n",
       "      <td>38.911341</td>\n",
       "      <td>61.088659</td>\n",
       "    </tr>\n",
       "    <tr>\n",
       "      <th>3</th>\n",
       "      <td>¿Cómo es la calidad del servicio?</td>\n",
       "      <td>93.811308</td>\n",
       "      <td>6.188692</td>\n",
       "    </tr>\n",
       "    <tr>\n",
       "      <th>4</th>\n",
       "      <td>¿A qué régimen está afiliado?</td>\n",
       "      <td>94.046099</td>\n",
       "      <td>5.953901</td>\n",
       "    </tr>\n",
       "    <tr>\n",
       "      <th>5</th>\n",
       "      <td>¿Está afiliado?</td>\n",
       "      <td>100.000000</td>\n",
       "      <td>0.000000</td>\n",
       "    </tr>\n",
       "    <tr>\n",
       "      <th>6</th>\n",
       "      <td>año</td>\n",
       "      <td>100.000000</td>\n",
       "      <td>0.000000</td>\n",
       "    </tr>\n",
       "  </tbody>\n",
       "</table>\n",
       "</div>"
      ],
      "text/plain": [
       "                            Atributo  Completitud (%)  Incompletitud (%)\n",
       "0         ¿Por qué no está afiliado?         5.549885          94.450115\n",
       "1        ¿Asiste a control prenatal?         6.762667          93.237333\n",
       "2                  ¿Está embarazada?        38.911341          61.088659\n",
       "3  ¿Cómo es la calidad del servicio?        93.811308           6.188692\n",
       "4      ¿A qué régimen está afiliado?        94.046099           5.953901\n",
       "5                    ¿Está afiliado?       100.000000           0.000000\n",
       "6                                año       100.000000           0.000000"
      ]
     },
     "execution_count": 19,
     "metadata": {},
     "output_type": "execute_result"
    }
   ],
   "source": [
    "porcentajeIncompletitudAtributo =  (100 * salud_df.isnull().sum() / salud_df.shape[0]).sort_values(ascending=False)\n",
    "pd.DataFrame({\n",
    "    \"Atributo\": porcentajeIncompletitudAtributo.index,\n",
    "    \"Completitud (%)\": 100 - porcentajeIncompletitudAtributo.values,\n",
    "    \"Incompletitud (%)\": porcentajeIncompletitudAtributo.values\n",
    "})"
   ]
  },
  {
   "cell_type": "markdown",
   "metadata": {
    "cell_id": "4c34baf30d7f43409a54d33eb0b2e930",
    "deepnote_cell_type": "markdown"
   },
   "source": [
    "Si bien se ve una alta incompletitud, los atributos más \"incompletos\" son aquellos que de alguna u otra manera estan limitados por otros atributos, lo que es la causa de su incompletitud."
   ]
  },
  {
   "cell_type": "markdown",
   "metadata": {
    "cell_id": "cc00991e6f92404f97b5d1bbd550a5b6",
    "deepnote_cell_type": "markdown",
    "id": "bi8woOmSJqzi"
   },
   "source": [
    "## 2.1.2. Análisis de unicidad\n",
    "A continuación, se buscará determinar cuántas filas duplicadas hay en el dataset"
   ]
  },
  {
   "cell_type": "code",
   "execution_count": 20,
   "metadata": {
    "cell_id": "ea4b2c2d4a084c048cf154914c33ccd9",
    "colab": {
     "base_uri": "https://localhost:8080/"
    },
    "deepnote_cell_type": "code",
    "execution_context_id": "cac25676-6f04-46ac-a839-ae17a7654a45",
    "execution_millis": 1,
    "execution_start": 1730430963585,
    "id": "q8dECLc_JtEY",
    "outputId": "9f328fbc-10fe-4629-f3b9-d0f4ea3edb90",
    "source_hash": "26abb2ce"
   },
   "outputs": [
    {
     "name": "stdout",
     "output_type": "stream",
     "text": [
      "Se cuenta con 818581 registros duplicados (99.95%)\n"
     ]
    }
   ],
   "source": [
    "registrosDuplicados = salud_df.duplicated()\n",
    "totalDuplicados = registrosDuplicados.sum()\n",
    "totalOpiniones = salud_df.shape[0]\n",
    "porcentajeDuplicados = 100.0 * totalDuplicados / totalOpiniones\n",
    "print(f\"Se cuenta con {totalDuplicados} registros duplicados ({porcentajeDuplicados:.2f}%)\")\n",
    "\n"
   ]
  },
  {
   "cell_type": "markdown",
   "metadata": {
    "cell_id": "3fbdd357e87c47e797a5c5b606ed80b6",
    "deepnote_cell_type": "markdown",
    "id": "o4AJqOoXUmQ-"
   },
   "source": [
    "Los datos presentan un alto porcentaje de duplicados, lo cual se debe a que se cuenta con un subconjunto muy limitado de los atributos totales, teniendo cada uno de estos valores una lista de posibles valores corta y que estan muy relacionadas entre si. Por estas razones, no se deberia realizar preparacion de datos con respecto a problemas de unicidad."
   ]
  },
  {
   "cell_type": "markdown",
   "metadata": {
    "cell_id": "3f04d9c088d140d98b3351dfd3d46ff3",
    "deepnote_cell_type": "markdown",
    "id": "FRM88NzK6U-J"
   },
   "source": [
    "## 2.1.3. Análisis de validez\n",
    "De acuerdo al diccionario de datos del año 2022, se deberian tener los siguientes posibles valores por cada atributo:\n",
    "\n",
    "** ¿Está embarazada? **\n",
    "1 Si\n",
    "2 No\n",
    "\n",
    "** ¿Asiste a control prenatal? **\n",
    "1 Sí\n",
    "2 No\n",
    "3 No está embarazada\n",
    "\n",
    "** ¿Está afiliado? **\n",
    "1 Si\n",
    "2 No\n",
    "9 No sabe, no informa\n",
    "\n",
    "\n",
    "** ¿A qué regimen está afiliado? **\n",
    "1 Contributivo (eps)\n",
    "2 Especial (fuerzas armadas, ecopetrol, universidades públicas, magisterio)\n",
    "3 Subsidiado (eps-s)\n",
    "9 No sabe, no informa\n",
    "\n",
    "** ¿Cómo es la calidad del servicio? **\n",
    "1 Muy buena\n",
    "2 Buena\n",
    "3 Mala\n",
    "4 Muy mala\n",
    "9 No sabe\n",
    "\n",
    "** ¿Por qué no está afiliado? **\n",
    "1 Por falta de dinero\n",
    "2 Muchos trámites\n",
    "3 No le interesa o descuido\n",
    "4 No sabe que debe afiliarse\n",
    "5 No está vinculado/a laboralmente a una empresa o entidad (Usted o la persona de la que es beneficiario/a)\n",
    "6 Está en trámite de afiliación\n",
    "7 Problemas con el Sisben (no lo/a han visitado, afiliado/a en otro municipio, lo/a desvincularon, le asignaron puntaje alto)\n",
    "8 Falta de documentación\n",
    "9 Otra razón\n",
    "\n",
    "\n",
    "\n",
    "\n",
    "\n",
    "\n",
    "\n",
    "\n"
   ]
  },
  {
   "cell_type": "code",
   "execution_count": 21,
   "metadata": {
    "cell_id": "165f710b1903443b87e53a4e3be08596",
    "colab": {
     "base_uri": "https://localhost:8080/",
     "height": 143
    },
    "deepnote_cell_type": "code",
    "execution_context_id": "cac25676-6f04-46ac-a839-ae17a7654a45",
    "execution_millis": 0,
    "execution_start": 1730430963633,
    "id": "z0fZSb5mWYBL",
    "outputId": "cf2efcb5-6e3d-4c4b-cac0-042d0f188acd",
    "source_hash": "16ef5acf"
   },
   "outputs": [
    {
     "name": "stdout",
     "output_type": "stream",
     "text": [
      "¿Está embarazada? : [np.float64(nan), np.float64(1.0), np.float64(2.0)]\n",
      "¿Asiste a control prenatal? : [np.float64(nan), np.float64(1.0), np.float64(2.0), np.float64(3.0)]\n",
      "¿Está afiliado? : [np.int64(1), np.int64(2), np.int64(9)]\n",
      "¿A qué régimen está afiliado? : [np.float64(1.0), np.float64(2.0), np.float64(3.0), np.float64(nan), np.float64(9.0)]\n",
      "¿Cómo es la calidad del servicio? : [np.float64(1.0), np.float64(2.0), np.float64(3.0), np.float64(4.0), np.float64(9.0), np.float64(nan)]\n",
      "¿Por qué no está afiliado? : [np.float64(nan), np.float64(1.0), np.float64(2.0), np.float64(3.0), np.float64(4.0), np.float64(5.0), np.float64(6.0), np.float64(7.0), np.float64(8.0), np.float64(9.0)]\n",
      "año : [np.int64(2017), np.int64(2018), np.int64(2021), np.int64(2022)]\n"
     ]
    }
   ],
   "source": [
    "for col in salud_df:\n",
    "    print(col, \":\", sorted(salud_df[col].unique()))\n",
    "\n"
   ]
  },
  {
   "cell_type": "markdown",
   "metadata": {
    "cell_id": "5179b89f9f0d444d8cd51611c6f7a449",
    "deepnote_cell_type": "markdown"
   },
   "source": [
    "De acuerdo con los resultados anteriores, no se debería realizar preparación de datos con problemas de validez, pues todos los valores de los atributos son aceptables."
   ]
  },
  {
   "cell_type": "markdown",
   "metadata": {
    "cell_id": "5c89d6e41feb4768aad4e3e99355738f",
    "deepnote_cell_type": "markdown",
    "id": "A1vuYKiZ6U-J"
   },
   "source": [
    "## 2.1.4. Análisis de consistencia\n",
    "\n",
    "El único problema de consistencia se mencionó en la sección 1, donde en una pareja de conjuntos de datos se tenia el atributo \"¿ha estado embarazada alguna vez en su vida? (P3335)\" mientras que otra pareja tenia el atributo \n",
    "\"¿Está embarazada actualmente o ha tenido hijos? (P5672)\" que en escencia hacian referencia a lo mismo. No se identificaron mas tareas a realizar por parte de problemas de consistencias."
   ]
  },
  {
   "cell_type": "markdown",
   "metadata": {
    "cell_id": "1f321f8d80144472b8a68f6a43d6accf",
    "deepnote_cell_type": "markdown"
   },
   "source": [
    "# 3. Resumen de los cambios realizados"
   ]
  }
 ],
 "metadata": {
  "deepnote_notebook_id": "7e14edd71479414985e39b6117c93986",
  "language_info": {
   "name": "python"
  }
 },
 "nbformat": 4,
 "nbformat_minor": 0
}
