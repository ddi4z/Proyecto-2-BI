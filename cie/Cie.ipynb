{
 "cells": [
  {
   "cell_type": "markdown",
   "metadata": {
    "cell_id": "d47e29e5a75047028affa347d9f31f31",
    "deepnote_cell_type": "markdown",
    "id": "TbJVdEgiT10x"
   },
   "source": [
    "# Análisis de Encuesta Nacional de Calidad de Vida - ECV\n",
    "\n",
    "## Integrantes - Grupo 15\n",
    "\n",
    "- Sara Sofia Cárdenas Rodríguez - 202214907\n",
    "- Daniel Felipe Diaz Moreno - 202210773\n",
    "- Juan Sebastián Urrea López - 201914710\n"
   ]
  },
  {
   "cell_type": "markdown",
   "metadata": {
    "cell_id": "dae9268966f3426ea18c27846fc4ee37",
    "deepnote_cell_type": "markdown",
    "id": "W8bV2RZ0T10x"
   },
   "source": [
    "## Los datos\n",
    "\n",
    "Se trabaja con un conjunto de datos para cada uno de los 4 años requeridos.\n"
   ]
  },
  {
   "cell_type": "markdown",
   "metadata": {
    "cell_id": "92d65db1ff7a4d5d95f0b94a5dca25f0",
    "deepnote_cell_type": "markdown",
    "id": "RVDZ5IMpT10y"
   },
   "source": [
    "## 1. Carga y Manipulación básica de los Datos"
   ]
  },
  {
   "cell_type": "code",
   "execution_count": 4,
   "metadata": {
    "cell_id": "25f89e9c22d54a83a38a71795dc6ebd5",
    "colab": {
     "base_uri": "https://localhost:8080/"
    },
    "deepnote_cell_type": "code",
    "execution_context_id": "cac25676-6f04-46ac-a839-ae17a7654a45",
    "execution_millis": 1107,
    "execution_start": 1730430956105,
    "id": "lFYczuz7T10x",
    "outputId": "9b3b137e-fca9-4c73-eaee-c2d918054ebd",
    "source_hash": "dda32890"
   },
   "outputs": [
    {
     "name": "stdout",
     "output_type": "stream",
     "text": [
      "Collecting xlrd\n",
      "  Downloading xlrd-2.0.1-py2.py3-none-any.whl.metadata (3.4 kB)\n",
      "Downloading xlrd-2.0.1-py2.py3-none-any.whl (96 kB)\n",
      "Installing collected packages: xlrd\n",
      "Successfully installed xlrd-2.0.1\n"
     ]
    },
    {
     "name": "stderr",
     "output_type": "stream",
     "text": [
      "\n",
      "[notice] A new release of pip is available: 24.2 -> 24.3.1\n",
      "[notice] To update, run: python.exe -m pip install --upgrade pip\n"
     ]
    }
   ],
   "source": [
    "# Importaciones de bibliotecas\n",
    "import pandas as pd\n",
    "!pip  install xlrd"
   ]
  },
  {
   "cell_type": "code",
   "execution_count": 9,
   "metadata": {
    "cell_id": "26e8ef7ad1964c17a0ea26dec858c01b",
    "deepnote_cell_type": "code",
    "execution_context_id": "cac25676-6f04-46ac-a839-ae17a7654a45",
    "execution_millis": 4664,
    "execution_start": 1730430957269,
    "id": "fRFCIRjvT10y",
    "source_hash": "70469b0a"
   },
   "outputs": [
    {
     "name": "stdout",
     "output_type": "stream",
     "text": [
      "Las dimensiones del archivo son: (12423, 4)\n"
     ]
    },
    {
     "data": {
      "text/html": [
       "<div>\n",
       "<style scoped>\n",
       "    .dataframe tbody tr th:only-of-type {\n",
       "        vertical-align: middle;\n",
       "    }\n",
       "\n",
       "    .dataframe tbody tr th {\n",
       "        vertical-align: top;\n",
       "    }\n",
       "\n",
       "    .dataframe thead th {\n",
       "        text-align: right;\n",
       "    }\n",
       "</style>\n",
       "<table border=\"1\" class=\"dataframe\">\n",
       "  <thead>\n",
       "    <tr style=\"text-align: right;\">\n",
       "      <th></th>\n",
       "      <th>COD_3</th>\n",
       "      <th>DESRIPCION CATEGORIAS DE TRES CARACTERES</th>\n",
       "      <th>COD_4</th>\n",
       "      <th>DESCRIPCION CODIGOS DE CUATRO CARACTERES</th>\n",
       "    </tr>\n",
       "  </thead>\n",
       "  <tbody>\n",
       "    <tr>\n",
       "      <th>0</th>\n",
       "      <td>A00</td>\n",
       "      <td>COLERA</td>\n",
       "      <td>A000</td>\n",
       "      <td>COLERA DEBIDO A VIBRIO CHOLERAE O1, BIOTIPO CH...</td>\n",
       "    </tr>\n",
       "    <tr>\n",
       "      <th>1</th>\n",
       "      <td>NaN</td>\n",
       "      <td>NaN</td>\n",
       "      <td>A001</td>\n",
       "      <td>COLERA DEBIDO A VIBRIO CHOLERAE O1, BIOTIPO EL...</td>\n",
       "    </tr>\n",
       "    <tr>\n",
       "      <th>2</th>\n",
       "      <td>NaN</td>\n",
       "      <td>NaN</td>\n",
       "      <td>A009</td>\n",
       "      <td>COLERA NO ESPECIFICADO</td>\n",
       "    </tr>\n",
       "    <tr>\n",
       "      <th>3</th>\n",
       "      <td>A01</td>\n",
       "      <td>FIEBRES TIFOIDEA Y PARATIFOIDEA</td>\n",
       "      <td>A010</td>\n",
       "      <td>FIEBRE TIFOIDEA</td>\n",
       "    </tr>\n",
       "    <tr>\n",
       "      <th>4</th>\n",
       "      <td>NaN</td>\n",
       "      <td>NaN</td>\n",
       "      <td>A011</td>\n",
       "      <td>FIEBRE PARATIFOIDEA A</td>\n",
       "    </tr>\n",
       "    <tr>\n",
       "      <th>5</th>\n",
       "      <td>NaN</td>\n",
       "      <td>NaN</td>\n",
       "      <td>A012</td>\n",
       "      <td>FIEBRE PARATIFOIDEA B</td>\n",
       "    </tr>\n",
       "    <tr>\n",
       "      <th>6</th>\n",
       "      <td>NaN</td>\n",
       "      <td>NaN</td>\n",
       "      <td>A013</td>\n",
       "      <td>FIEBRE PARATIFOIDEA C</td>\n",
       "    </tr>\n",
       "    <tr>\n",
       "      <th>7</th>\n",
       "      <td>NaN</td>\n",
       "      <td>NaN</td>\n",
       "      <td>A014</td>\n",
       "      <td>FIEBRE PARATIFOIDEA, NO ESPECIFICADA</td>\n",
       "    </tr>\n",
       "    <tr>\n",
       "      <th>8</th>\n",
       "      <td>A02</td>\n",
       "      <td>OTRAS INFECCIONES DEBIDAS SALMONELLA</td>\n",
       "      <td>A020</td>\n",
       "      <td>ENTERITIS DEBIDA A SALMONELLA</td>\n",
       "    </tr>\n",
       "    <tr>\n",
       "      <th>9</th>\n",
       "      <td>NaN</td>\n",
       "      <td>NaN</td>\n",
       "      <td>A021</td>\n",
       "      <td>SEPTICEMIA DEBIDA A SALMONELLA</td>\n",
       "    </tr>\n",
       "  </tbody>\n",
       "</table>\n",
       "</div>"
      ],
      "text/plain": [
       "  COD_3 DESRIPCION CATEGORIAS DE TRES CARACTERES COD_4  \\\n",
       "0   A00                                   COLERA  A000   \n",
       "1   NaN                                      NaN  A001   \n",
       "2   NaN                                      NaN  A009   \n",
       "3   A01          FIEBRES TIFOIDEA Y PARATIFOIDEA  A010   \n",
       "4   NaN                                      NaN  A011   \n",
       "5   NaN                                      NaN  A012   \n",
       "6   NaN                                      NaN  A013   \n",
       "7   NaN                                      NaN  A014   \n",
       "8   A02     OTRAS INFECCIONES DEBIDAS SALMONELLA  A020   \n",
       "9   NaN                                      NaN  A021   \n",
       "\n",
       "            DESCRIPCION CODIGOS DE CUATRO CARACTERES  \n",
       "0  COLERA DEBIDO A VIBRIO CHOLERAE O1, BIOTIPO CH...  \n",
       "1  COLERA DEBIDO A VIBRIO CHOLERAE O1, BIOTIPO EL...  \n",
       "2                             COLERA NO ESPECIFICADO  \n",
       "3                                    FIEBRE TIFOIDEA  \n",
       "4                              FIEBRE PARATIFOIDEA A  \n",
       "5                              FIEBRE PARATIFOIDEA B  \n",
       "6                              FIEBRE PARATIFOIDEA C  \n",
       "7               FIEBRE PARATIFOIDEA, NO ESPECIFICADA  \n",
       "8                      ENTERITIS DEBIDA A SALMONELLA  \n",
       "9                     SEPTICEMIA DEBIDA A SALMONELLA  "
      ]
     },
     "execution_count": 9,
     "metadata": {},
     "output_type": "execute_result"
    }
   ],
   "source": [
    "cie_df = pd.read_excel(\"Cie.xls\", skiprows=6)\n",
    "\n",
    "\n",
    "print(f\"Las dimensiones del archivo son: {cie_df.shape}\")\n",
    "cie_df.head(10)"
   ]
  },
  {
   "cell_type": "markdown",
   "metadata": {
    "cell_id": "b3cbef35c6af4f3094914af93fc28893",
    "deepnote_cell_type": "markdown"
   },
   "source": [
    "Los unicos atributos de interés son COD_4 y DESCRIPCION CODIGOS DE CUATRO CARACTERES, asi que se eliminarán las demás variables"
   ]
  },
  {
   "cell_type": "code",
   "execution_count": null,
   "metadata": {
    "cell_id": "89c7542409c84bafa5de8438ac6d67c9",
    "colab": {
     "base_uri": "https://localhost:8080/"
    },
    "deepnote_cell_type": "code",
    "execution_context_id": "cac25676-6f04-46ac-a839-ae17a7654a45",
    "execution_millis": 0,
    "execution_start": 1730430961989,
    "id": "JMJGZJTgT10y",
    "outputId": "4a2fdb98-6d1e-405d-bbfd-d693d0b71a2b",
    "source_hash": "7a40138e"
   },
   "outputs": [
    {
     "name": "stdout",
     "output_type": "stream",
     "text": [
      "Las columnas de salud2017 son: ['P5672', 'P5694', 'P5695', 'P6090', 'P6100', 'P6181', 'P768']\n",
      "Las columnas de salud2018 son: ['P5672', 'P5694', 'P5695', 'P6090', 'P6100', 'P6181', 'P768']\n",
      "Las columnas de salud2021 son: ['P5694', 'P6090', 'P6100', 'P6181', 'P768']\n",
      "Las columnas de salud2022 son: ['P5694', 'P6090', 'P6100', 'P6181', 'P768']\n",
      "Las columnas en común son: {'P6181', 'P5694', 'P768', 'P6100', 'P6090'}\n",
      "Las columnas que no estan en todos los datasets son: {'P5695', 'P5672'}\n"
     ]
    }
   ],
   "source": [
    "cie_df = cie_df[\"COD_4\", \"DESCRIPCION CODIGOS DE CUATRO CARACTERES\"]"
   ]
  },
  {
   "cell_type": "markdown",
   "metadata": {
    "cell_id": "3979b49d8cf449c684ebbd3c0afca133",
    "deepnote_cell_type": "markdown"
   },
   "source": [
    "Con base en esto, se puede observar que no se encentra el siguiente atributo.\n",
    "\n",
    "\n",
    "- ¿Está embarazada actualmente o ha tenido hijos? (P5672)\n",
    "\n",
    "Sin embargo, fue posible encontrar el atributo ¿ha estado embarazada alguna vez en su vida? (P3335), la cual funge el mismo rol que P5672. Por lo tanto, se procederá a reemplazar P5672 por P3335 para estos dos archivos y se decidira no tener en cuenta P5695 en el analisis de datos"
   ]
  },
  {
   "cell_type": "code",
   "execution_count": null,
   "metadata": {
    "cell_id": "54b7c4090477408ea26b112fd5180a4d",
    "deepnote_cell_type": "code",
    "execution_context_id": "cac25676-6f04-46ac-a839-ae17a7654a45",
    "execution_millis": 0,
    "execution_start": 1730430962041,
    "source_hash": "b819208a"
   },
   "outputs": [],
   "source": [
    "columnasSalud2021.append(\"P3335\")\n",
    "columnasSalud2022.append(\"P3335\")"
   ]
  },
  {
   "cell_type": "markdown",
   "metadata": {
    "cell_id": "030756896f1940928a84ddc070b8d410",
    "deepnote_cell_type": "markdown"
   },
   "source": [
    "Asimismo, para facilitiar su análisis, se procederá a cambiar los identificadores de las columnas por nombres más descriptivos."
   ]
  },
  {
   "cell_type": "code",
   "execution_count": 5,
   "metadata": {
    "cell_id": "8ad42816004d479fadd3d80205222f92",
    "deepnote_cell_type": "code",
    "execution_context_id": "cac25676-6f04-46ac-a839-ae17a7654a45",
    "execution_millis": 0,
    "execution_start": 1730430962097,
    "source_hash": "e5a60481"
   },
   "outputs": [],
   "source": [
    "idANombre = {\n",
    "    'P5694': '¿Asiste a control prenatal?',\n",
    "    'P6090': '¿Está afiliado?',\n",
    "    'P6100': '¿A qué régimen está afiliado?',\n",
    "    'P6181': '¿Cómo es la calidad del servicio?',\n",
    "    'P768': '¿Por qué no está afiliado?',\n",
    "    'P5672': '¿Está embarazada?',\n",
    "    'P3335': '¿Está embarazada?',\n",
    "}\n",
    "columnasSalud2017 = [idANombre[col] for col in columnasSalud2017]\n",
    "columnasSalud2018 = [idANombre[col] for col in columnasSalud2018]\n",
    "columnasSalud2021 = [idANombre[col] for col in columnasSalud2021]\n",
    "columnasSalud2022 = [idANombre[col] for col in columnasSalud2022]\n",
    "\n",
    "\n",
    "salud2017.rename(columns=idANombre, inplace=True)\n",
    "salud2018.rename(columns=idANombre, inplace=True)\n",
    "salud2021.rename(columns=idANombre, inplace=True)\n",
    "salud2022.rename(columns=idANombre, inplace=True)\n",
    "\n"
   ]
  },
  {
   "cell_type": "markdown",
   "metadata": {
    "cell_id": "b91663d2a3e842c4970fa328b778f1e7",
    "deepnote_cell_type": "markdown"
   },
   "source": [
    "Con esto, a continuación se presenta una muestra para cada uno de los archivos de datos disponibles."
   ]
  },
  {
   "cell_type": "code",
   "execution_count": 6,
   "metadata": {
    "cell_id": "cbdaf3bcce11477e92ef565c45ca629c",
    "colab": {
     "base_uri": "https://localhost:8080/"
    },
    "deepnote_cell_type": "code",
    "execution_context_id": "cac25676-6f04-46ac-a839-ae17a7654a45",
    "execution_millis": 0,
    "execution_start": 1730430962153,
    "id": "8cf97Fwsa4_9",
    "outputId": "b0330dd2-ba47-4e16-e8ab-d72936e4f916",
    "source_hash": "f1402d65"
   },
   "outputs": [
    {
     "data": {
      "text/html": [
       "<div>\n",
       "<style scoped>\n",
       "    .dataframe tbody tr th:only-of-type {\n",
       "        vertical-align: middle;\n",
       "    }\n",
       "\n",
       "    .dataframe tbody tr th {\n",
       "        vertical-align: top;\n",
       "    }\n",
       "\n",
       "    .dataframe thead th {\n",
       "        text-align: right;\n",
       "    }\n",
       "</style>\n",
       "<table border=\"1\" class=\"dataframe\">\n",
       "  <thead>\n",
       "    <tr style=\"text-align: right;\">\n",
       "      <th></th>\n",
       "      <th>¿Está embarazada?</th>\n",
       "      <th>¿Asiste a control prenatal?</th>\n",
       "      <th>¿Está afiliado?</th>\n",
       "      <th>¿A qué régimen está afiliado?</th>\n",
       "      <th>¿Cómo es la calidad del servicio?</th>\n",
       "      <th>¿Por qué no está afiliado?</th>\n",
       "    </tr>\n",
       "  </thead>\n",
       "  <tbody>\n",
       "    <tr>\n",
       "      <th>3257</th>\n",
       "      <td></td>\n",
       "      <td></td>\n",
       "      <td>1</td>\n",
       "      <td>1</td>\n",
       "      <td>3</td>\n",
       "      <td></td>\n",
       "    </tr>\n",
       "    <tr>\n",
       "      <th>10106</th>\n",
       "      <td>1</td>\n",
       "      <td>3</td>\n",
       "      <td>1</td>\n",
       "      <td>3</td>\n",
       "      <td>2</td>\n",
       "      <td></td>\n",
       "    </tr>\n",
       "    <tr>\n",
       "      <th>20393</th>\n",
       "      <td></td>\n",
       "      <td></td>\n",
       "      <td>1</td>\n",
       "      <td>3</td>\n",
       "      <td>2</td>\n",
       "      <td></td>\n",
       "    </tr>\n",
       "    <tr>\n",
       "      <th>37</th>\n",
       "      <td></td>\n",
       "      <td></td>\n",
       "      <td>1</td>\n",
       "      <td>3</td>\n",
       "      <td>2</td>\n",
       "      <td></td>\n",
       "    </tr>\n",
       "    <tr>\n",
       "      <th>12359</th>\n",
       "      <td></td>\n",
       "      <td></td>\n",
       "      <td>1</td>\n",
       "      <td>1</td>\n",
       "      <td>1</td>\n",
       "      <td></td>\n",
       "    </tr>\n",
       "    <tr>\n",
       "      <th>25330</th>\n",
       "      <td></td>\n",
       "      <td></td>\n",
       "      <td>1</td>\n",
       "      <td>1</td>\n",
       "      <td>2</td>\n",
       "      <td></td>\n",
       "    </tr>\n",
       "    <tr>\n",
       "      <th>7047</th>\n",
       "      <td>2</td>\n",
       "      <td></td>\n",
       "      <td>1</td>\n",
       "      <td>3</td>\n",
       "      <td>3</td>\n",
       "      <td></td>\n",
       "    </tr>\n",
       "    <tr>\n",
       "      <th>14462</th>\n",
       "      <td>1</td>\n",
       "      <td>3</td>\n",
       "      <td>1</td>\n",
       "      <td>3</td>\n",
       "      <td>2</td>\n",
       "      <td></td>\n",
       "    </tr>\n",
       "    <tr>\n",
       "      <th>9749</th>\n",
       "      <td></td>\n",
       "      <td></td>\n",
       "      <td>1</td>\n",
       "      <td>3</td>\n",
       "      <td>2</td>\n",
       "      <td></td>\n",
       "    </tr>\n",
       "    <tr>\n",
       "      <th>10846</th>\n",
       "      <td></td>\n",
       "      <td></td>\n",
       "      <td>1</td>\n",
       "      <td>1</td>\n",
       "      <td>2</td>\n",
       "      <td></td>\n",
       "    </tr>\n",
       "  </tbody>\n",
       "</table>\n",
       "</div>"
      ],
      "text/plain": [
       "      ¿Está embarazada? ¿Asiste a control prenatal?  ¿Está afiliado?  \\\n",
       "3257                                                               1   \n",
       "10106                 1                           3                1   \n",
       "20393                                                              1   \n",
       "37                                                                 1   \n",
       "12359                                                              1   \n",
       "25330                                                              1   \n",
       "7047                  2                                            1   \n",
       "14462                 1                           3                1   \n",
       "9749                                                               1   \n",
       "10846                                                              1   \n",
       "\n",
       "      ¿A qué régimen está afiliado? ¿Cómo es la calidad del servicio?  \\\n",
       "3257                              1                                 3   \n",
       "10106                             3                                 2   \n",
       "20393                             3                                 2   \n",
       "37                                3                                 2   \n",
       "12359                             1                                 1   \n",
       "25330                             1                                 2   \n",
       "7047                              3                                 3   \n",
       "14462                             3                                 2   \n",
       "9749                              3                                 2   \n",
       "10846                             1                                 2   \n",
       "\n",
       "      ¿Por qué no está afiliado?  \n",
       "3257                              \n",
       "10106                             \n",
       "20393                             \n",
       "37                                \n",
       "12359                             \n",
       "25330                             \n",
       "7047                              \n",
       "14462                             \n",
       "9749                              \n",
       "10846                             "
      ]
     },
     "execution_count": 6,
     "metadata": {},
     "output_type": "execute_result"
    }
   ],
   "source": [
    "salud2017[columnasSalud2017].sample(10)"
   ]
  },
  {
   "cell_type": "code",
   "execution_count": 7,
   "metadata": {
    "cell_id": "7323151596664b03aefbfd08e82cbb5f",
    "deepnote_cell_type": "code",
    "execution_context_id": "cac25676-6f04-46ac-a839-ae17a7654a45",
    "execution_millis": 0,
    "execution_start": 1730430962205,
    "source_hash": "64076e1"
   },
   "outputs": [
    {
     "data": {
      "text/html": [
       "<div>\n",
       "<style scoped>\n",
       "    .dataframe tbody tr th:only-of-type {\n",
       "        vertical-align: middle;\n",
       "    }\n",
       "\n",
       "    .dataframe tbody tr th {\n",
       "        vertical-align: top;\n",
       "    }\n",
       "\n",
       "    .dataframe thead th {\n",
       "        text-align: right;\n",
       "    }\n",
       "</style>\n",
       "<table border=\"1\" class=\"dataframe\">\n",
       "  <thead>\n",
       "    <tr style=\"text-align: right;\">\n",
       "      <th></th>\n",
       "      <th>¿Está embarazada?</th>\n",
       "      <th>¿Asiste a control prenatal?</th>\n",
       "      <th>¿Está afiliado?</th>\n",
       "      <th>¿A qué régimen está afiliado?</th>\n",
       "      <th>¿Cómo es la calidad del servicio?</th>\n",
       "      <th>¿Por qué no está afiliado?</th>\n",
       "    </tr>\n",
       "  </thead>\n",
       "  <tbody>\n",
       "    <tr>\n",
       "      <th>128832</th>\n",
       "      <td></td>\n",
       "      <td></td>\n",
       "      <td>1</td>\n",
       "      <td>3</td>\n",
       "      <td>4</td>\n",
       "      <td></td>\n",
       "    </tr>\n",
       "    <tr>\n",
       "      <th>126801</th>\n",
       "      <td></td>\n",
       "      <td></td>\n",
       "      <td>1</td>\n",
       "      <td>3</td>\n",
       "      <td>2</td>\n",
       "      <td></td>\n",
       "    </tr>\n",
       "    <tr>\n",
       "      <th>7048</th>\n",
       "      <td>1</td>\n",
       "      <td>3</td>\n",
       "      <td>1</td>\n",
       "      <td>3</td>\n",
       "      <td>2</td>\n",
       "      <td></td>\n",
       "    </tr>\n",
       "    <tr>\n",
       "      <th>208236</th>\n",
       "      <td></td>\n",
       "      <td></td>\n",
       "      <td>1</td>\n",
       "      <td>3</td>\n",
       "      <td>2</td>\n",
       "      <td></td>\n",
       "    </tr>\n",
       "    <tr>\n",
       "      <th>207013</th>\n",
       "      <td>1</td>\n",
       "      <td>3</td>\n",
       "      <td>1</td>\n",
       "      <td>3</td>\n",
       "      <td>2</td>\n",
       "      <td></td>\n",
       "    </tr>\n",
       "    <tr>\n",
       "      <th>256369</th>\n",
       "      <td>2</td>\n",
       "      <td></td>\n",
       "      <td>1</td>\n",
       "      <td>1</td>\n",
       "      <td>2</td>\n",
       "      <td></td>\n",
       "    </tr>\n",
       "    <tr>\n",
       "      <th>32059</th>\n",
       "      <td></td>\n",
       "      <td></td>\n",
       "      <td>1</td>\n",
       "      <td>3</td>\n",
       "      <td>9</td>\n",
       "      <td></td>\n",
       "    </tr>\n",
       "    <tr>\n",
       "      <th>115485</th>\n",
       "      <td></td>\n",
       "      <td></td>\n",
       "      <td>1</td>\n",
       "      <td>1</td>\n",
       "      <td>2</td>\n",
       "      <td></td>\n",
       "    </tr>\n",
       "    <tr>\n",
       "      <th>73532</th>\n",
       "      <td></td>\n",
       "      <td></td>\n",
       "      <td>1</td>\n",
       "      <td>1</td>\n",
       "      <td>3</td>\n",
       "      <td></td>\n",
       "    </tr>\n",
       "    <tr>\n",
       "      <th>124282</th>\n",
       "      <td></td>\n",
       "      <td></td>\n",
       "      <td>1</td>\n",
       "      <td>3</td>\n",
       "      <td>2</td>\n",
       "      <td></td>\n",
       "    </tr>\n",
       "  </tbody>\n",
       "</table>\n",
       "</div>"
      ],
      "text/plain": [
       "       ¿Está embarazada? ¿Asiste a control prenatal?  ¿Está afiliado?  \\\n",
       "128832                                                              1   \n",
       "126801                                                              1   \n",
       "7048                   1                           3                1   \n",
       "208236                                                              1   \n",
       "207013                 1                           3                1   \n",
       "256369                 2                                            1   \n",
       "32059                                                               1   \n",
       "115485                                                              1   \n",
       "73532                                                               1   \n",
       "124282                                                              1   \n",
       "\n",
       "       ¿A qué régimen está afiliado? ¿Cómo es la calidad del servicio?  \\\n",
       "128832                             3                                 4   \n",
       "126801                             3                                 2   \n",
       "7048                               3                                 2   \n",
       "208236                             3                                 2   \n",
       "207013                             3                                 2   \n",
       "256369                             1                                 2   \n",
       "32059                              3                                 9   \n",
       "115485                             1                                 2   \n",
       "73532                              1                                 3   \n",
       "124282                             3                                 2   \n",
       "\n",
       "       ¿Por qué no está afiliado?  \n",
       "128832                             \n",
       "126801                             \n",
       "7048                               \n",
       "208236                             \n",
       "207013                             \n",
       "256369                             \n",
       "32059                              \n",
       "115485                             \n",
       "73532                              \n",
       "124282                             "
      ]
     },
     "execution_count": 7,
     "metadata": {},
     "output_type": "execute_result"
    }
   ],
   "source": [
    "salud2018[columnasSalud2018].sample(10)"
   ]
  },
  {
   "cell_type": "code",
   "execution_count": 8,
   "metadata": {
    "cell_id": "f693e4fc1d9b4dd7803f96b630a92566",
    "deepnote_cell_type": "code",
    "execution_context_id": "cac25676-6f04-46ac-a839-ae17a7654a45",
    "execution_millis": 1,
    "execution_start": 1730430962253,
    "source_hash": "d1d58e60"
   },
   "outputs": [
    {
     "data": {
      "text/html": [
       "<div>\n",
       "<style scoped>\n",
       "    .dataframe tbody tr th:only-of-type {\n",
       "        vertical-align: middle;\n",
       "    }\n",
       "\n",
       "    .dataframe tbody tr th {\n",
       "        vertical-align: top;\n",
       "    }\n",
       "\n",
       "    .dataframe thead th {\n",
       "        text-align: right;\n",
       "    }\n",
       "</style>\n",
       "<table border=\"1\" class=\"dataframe\">\n",
       "  <thead>\n",
       "    <tr style=\"text-align: right;\">\n",
       "      <th></th>\n",
       "      <th>¿Asiste a control prenatal?</th>\n",
       "      <th>¿Está afiliado?</th>\n",
       "      <th>¿A qué régimen está afiliado?</th>\n",
       "      <th>¿Cómo es la calidad del servicio?</th>\n",
       "      <th>¿Por qué no está afiliado?</th>\n",
       "      <th>¿Está embarazada?</th>\n",
       "    </tr>\n",
       "  </thead>\n",
       "  <tbody>\n",
       "    <tr>\n",
       "      <th>27324</th>\n",
       "      <td>NaN</td>\n",
       "      <td>1</td>\n",
       "      <td>1.0</td>\n",
       "      <td>2.0</td>\n",
       "      <td>NaN</td>\n",
       "      <td>2.0</td>\n",
       "    </tr>\n",
       "    <tr>\n",
       "      <th>90220</th>\n",
       "      <td>NaN</td>\n",
       "      <td>1</td>\n",
       "      <td>2.0</td>\n",
       "      <td>1.0</td>\n",
       "      <td>NaN</td>\n",
       "      <td>NaN</td>\n",
       "    </tr>\n",
       "    <tr>\n",
       "      <th>60418</th>\n",
       "      <td>NaN</td>\n",
       "      <td>1</td>\n",
       "      <td>1.0</td>\n",
       "      <td>2.0</td>\n",
       "      <td>NaN</td>\n",
       "      <td>NaN</td>\n",
       "    </tr>\n",
       "    <tr>\n",
       "      <th>135933</th>\n",
       "      <td>NaN</td>\n",
       "      <td>1</td>\n",
       "      <td>3.0</td>\n",
       "      <td>2.0</td>\n",
       "      <td>NaN</td>\n",
       "      <td>NaN</td>\n",
       "    </tr>\n",
       "    <tr>\n",
       "      <th>256085</th>\n",
       "      <td>NaN</td>\n",
       "      <td>1</td>\n",
       "      <td>3.0</td>\n",
       "      <td>2.0</td>\n",
       "      <td>NaN</td>\n",
       "      <td>NaN</td>\n",
       "    </tr>\n",
       "    <tr>\n",
       "      <th>126571</th>\n",
       "      <td>NaN</td>\n",
       "      <td>1</td>\n",
       "      <td>3.0</td>\n",
       "      <td>2.0</td>\n",
       "      <td>NaN</td>\n",
       "      <td>1.0</td>\n",
       "    </tr>\n",
       "    <tr>\n",
       "      <th>216544</th>\n",
       "      <td>NaN</td>\n",
       "      <td>1</td>\n",
       "      <td>3.0</td>\n",
       "      <td>3.0</td>\n",
       "      <td>NaN</td>\n",
       "      <td>NaN</td>\n",
       "    </tr>\n",
       "    <tr>\n",
       "      <th>56897</th>\n",
       "      <td>NaN</td>\n",
       "      <td>1</td>\n",
       "      <td>3.0</td>\n",
       "      <td>2.0</td>\n",
       "      <td>NaN</td>\n",
       "      <td>1.0</td>\n",
       "    </tr>\n",
       "    <tr>\n",
       "      <th>117105</th>\n",
       "      <td>NaN</td>\n",
       "      <td>1</td>\n",
       "      <td>1.0</td>\n",
       "      <td>2.0</td>\n",
       "      <td>NaN</td>\n",
       "      <td>NaN</td>\n",
       "    </tr>\n",
       "    <tr>\n",
       "      <th>16293</th>\n",
       "      <td>NaN</td>\n",
       "      <td>1</td>\n",
       "      <td>3.0</td>\n",
       "      <td>2.0</td>\n",
       "      <td>NaN</td>\n",
       "      <td>1.0</td>\n",
       "    </tr>\n",
       "  </tbody>\n",
       "</table>\n",
       "</div>"
      ],
      "text/plain": [
       "        ¿Asiste a control prenatal?  ¿Está afiliado?  \\\n",
       "27324                           NaN                1   \n",
       "90220                           NaN                1   \n",
       "60418                           NaN                1   \n",
       "135933                          NaN                1   \n",
       "256085                          NaN                1   \n",
       "126571                          NaN                1   \n",
       "216544                          NaN                1   \n",
       "56897                           NaN                1   \n",
       "117105                          NaN                1   \n",
       "16293                           NaN                1   \n",
       "\n",
       "        ¿A qué régimen está afiliado?  ¿Cómo es la calidad del servicio?  \\\n",
       "27324                             1.0                                2.0   \n",
       "90220                             2.0                                1.0   \n",
       "60418                             1.0                                2.0   \n",
       "135933                            3.0                                2.0   \n",
       "256085                            3.0                                2.0   \n",
       "126571                            3.0                                2.0   \n",
       "216544                            3.0                                3.0   \n",
       "56897                             3.0                                2.0   \n",
       "117105                            1.0                                2.0   \n",
       "16293                             3.0                                2.0   \n",
       "\n",
       "        ¿Por qué no está afiliado?  ¿Está embarazada?  \n",
       "27324                          NaN                2.0  \n",
       "90220                          NaN                NaN  \n",
       "60418                          NaN                NaN  \n",
       "135933                         NaN                NaN  \n",
       "256085                         NaN                NaN  \n",
       "126571                         NaN                1.0  \n",
       "216544                         NaN                NaN  \n",
       "56897                          NaN                1.0  \n",
       "117105                         NaN                NaN  \n",
       "16293                          NaN                1.0  "
      ]
     },
     "execution_count": 8,
     "metadata": {},
     "output_type": "execute_result"
    }
   ],
   "source": [
    "salud2021[columnasSalud2021].sample(10)"
   ]
  },
  {
   "cell_type": "code",
   "execution_count": 9,
   "metadata": {
    "cell_id": "068cca06cf8a4877a21271cf4a118802",
    "deepnote_cell_type": "code",
    "execution_context_id": "cac25676-6f04-46ac-a839-ae17a7654a45",
    "execution_millis": 0,
    "execution_start": 1730430962301,
    "source_hash": "8676511"
   },
   "outputs": [
    {
     "data": {
      "text/html": [
       "<div>\n",
       "<style scoped>\n",
       "    .dataframe tbody tr th:only-of-type {\n",
       "        vertical-align: middle;\n",
       "    }\n",
       "\n",
       "    .dataframe tbody tr th {\n",
       "        vertical-align: top;\n",
       "    }\n",
       "\n",
       "    .dataframe thead th {\n",
       "        text-align: right;\n",
       "    }\n",
       "</style>\n",
       "<table border=\"1\" class=\"dataframe\">\n",
       "  <thead>\n",
       "    <tr style=\"text-align: right;\">\n",
       "      <th></th>\n",
       "      <th>¿Asiste a control prenatal?</th>\n",
       "      <th>¿Está afiliado?</th>\n",
       "      <th>¿A qué régimen está afiliado?</th>\n",
       "      <th>¿Cómo es la calidad del servicio?</th>\n",
       "      <th>¿Por qué no está afiliado?</th>\n",
       "      <th>¿Está embarazada?</th>\n",
       "    </tr>\n",
       "  </thead>\n",
       "  <tbody>\n",
       "    <tr>\n",
       "      <th>79057</th>\n",
       "      <td>NaN</td>\n",
       "      <td>1</td>\n",
       "      <td>3.0</td>\n",
       "      <td>3.0</td>\n",
       "      <td>NaN</td>\n",
       "      <td>NaN</td>\n",
       "    </tr>\n",
       "    <tr>\n",
       "      <th>104156</th>\n",
       "      <td>NaN</td>\n",
       "      <td>1</td>\n",
       "      <td>3.0</td>\n",
       "      <td>2.0</td>\n",
       "      <td>NaN</td>\n",
       "      <td>NaN</td>\n",
       "    </tr>\n",
       "    <tr>\n",
       "      <th>201781</th>\n",
       "      <td>NaN</td>\n",
       "      <td>1</td>\n",
       "      <td>1.0</td>\n",
       "      <td>2.0</td>\n",
       "      <td>NaN</td>\n",
       "      <td>NaN</td>\n",
       "    </tr>\n",
       "    <tr>\n",
       "      <th>112057</th>\n",
       "      <td>NaN</td>\n",
       "      <td>1</td>\n",
       "      <td>3.0</td>\n",
       "      <td>2.0</td>\n",
       "      <td>NaN</td>\n",
       "      <td>NaN</td>\n",
       "    </tr>\n",
       "    <tr>\n",
       "      <th>8993</th>\n",
       "      <td>NaN</td>\n",
       "      <td>1</td>\n",
       "      <td>3.0</td>\n",
       "      <td>3.0</td>\n",
       "      <td>NaN</td>\n",
       "      <td>NaN</td>\n",
       "    </tr>\n",
       "    <tr>\n",
       "      <th>173054</th>\n",
       "      <td>NaN</td>\n",
       "      <td>1</td>\n",
       "      <td>1.0</td>\n",
       "      <td>2.0</td>\n",
       "      <td>NaN</td>\n",
       "      <td>NaN</td>\n",
       "    </tr>\n",
       "    <tr>\n",
       "      <th>16257</th>\n",
       "      <td>NaN</td>\n",
       "      <td>1</td>\n",
       "      <td>1.0</td>\n",
       "      <td>1.0</td>\n",
       "      <td>NaN</td>\n",
       "      <td>NaN</td>\n",
       "    </tr>\n",
       "    <tr>\n",
       "      <th>122800</th>\n",
       "      <td>NaN</td>\n",
       "      <td>1</td>\n",
       "      <td>3.0</td>\n",
       "      <td>2.0</td>\n",
       "      <td>NaN</td>\n",
       "      <td>NaN</td>\n",
       "    </tr>\n",
       "    <tr>\n",
       "      <th>172845</th>\n",
       "      <td>NaN</td>\n",
       "      <td>1</td>\n",
       "      <td>3.0</td>\n",
       "      <td>2.0</td>\n",
       "      <td>NaN</td>\n",
       "      <td>NaN</td>\n",
       "    </tr>\n",
       "    <tr>\n",
       "      <th>238007</th>\n",
       "      <td>NaN</td>\n",
       "      <td>2</td>\n",
       "      <td>NaN</td>\n",
       "      <td>NaN</td>\n",
       "      <td>6.0</td>\n",
       "      <td>NaN</td>\n",
       "    </tr>\n",
       "  </tbody>\n",
       "</table>\n",
       "</div>"
      ],
      "text/plain": [
       "        ¿Asiste a control prenatal?  ¿Está afiliado?  \\\n",
       "79057                           NaN                1   \n",
       "104156                          NaN                1   \n",
       "201781                          NaN                1   \n",
       "112057                          NaN                1   \n",
       "8993                            NaN                1   \n",
       "173054                          NaN                1   \n",
       "16257                           NaN                1   \n",
       "122800                          NaN                1   \n",
       "172845                          NaN                1   \n",
       "238007                          NaN                2   \n",
       "\n",
       "        ¿A qué régimen está afiliado?  ¿Cómo es la calidad del servicio?  \\\n",
       "79057                             3.0                                3.0   \n",
       "104156                            3.0                                2.0   \n",
       "201781                            1.0                                2.0   \n",
       "112057                            3.0                                2.0   \n",
       "8993                              3.0                                3.0   \n",
       "173054                            1.0                                2.0   \n",
       "16257                             1.0                                1.0   \n",
       "122800                            3.0                                2.0   \n",
       "172845                            3.0                                2.0   \n",
       "238007                            NaN                                NaN   \n",
       "\n",
       "        ¿Por qué no está afiliado?  ¿Está embarazada?  \n",
       "79057                          NaN                NaN  \n",
       "104156                         NaN                NaN  \n",
       "201781                         NaN                NaN  \n",
       "112057                         NaN                NaN  \n",
       "8993                           NaN                NaN  \n",
       "173054                         NaN                NaN  \n",
       "16257                          NaN                NaN  \n",
       "122800                         NaN                NaN  \n",
       "172845                         NaN                NaN  \n",
       "238007                         6.0                NaN  "
      ]
     },
     "execution_count": 9,
     "metadata": {},
     "output_type": "execute_result"
    }
   ],
   "source": [
    "salud2022[columnasSalud2022].sample(10)"
   ]
  },
  {
   "cell_type": "markdown",
   "metadata": {
    "cell_id": "dd19c38e8bff4824ac9d5b0b50aa2b4e",
    "deepnote_cell_type": "markdown",
    "id": "phYhHPVC6U9_"
   },
   "source": [
    "Observamos que muchos datos son nulos, esto se debe a que varias preguntas son mutuamente excluyentes, y otras son dependientes de otras"
   ]
  },
  {
   "cell_type": "markdown",
   "metadata": {
    "cell_id": "e1896940d2ae48979bc7753920b8fc26",
    "deepnote_cell_type": "markdown"
   },
   "source": [
    "Posteriormente, se muestra el tipo de dato para cada atributo por cada archivo de datos."
   ]
  },
  {
   "cell_type": "code",
   "execution_count": 10,
   "metadata": {
    "cell_id": "c37d89aa55564643a6f8112d1c292fae",
    "deepnote_cell_type": "code",
    "execution_context_id": "cac25676-6f04-46ac-a839-ae17a7654a45",
    "execution_millis": 0,
    "execution_start": 1730430962349,
    "source_hash": "db0467fc"
   },
   "outputs": [
    {
     "name": "stdout",
     "output_type": "stream",
     "text": [
      "<class 'pandas.core.frame.DataFrame'>\n",
      "RangeIndex: 26500 entries, 0 to 26499\n",
      "Data columns (total 6 columns):\n",
      " #   Column                             Non-Null Count  Dtype \n",
      "---  ------                             --------------  ----- \n",
      " 0   ¿Está embarazada?                  26500 non-null  object\n",
      " 1   ¿Asiste a control prenatal?        26500 non-null  object\n",
      " 2   ¿Está afiliado?                    26500 non-null  int64 \n",
      " 3   ¿A qué régimen está afiliado?      26500 non-null  object\n",
      " 4   ¿Cómo es la calidad del servicio?  26500 non-null  object\n",
      " 5   ¿Por qué no está afiliado?         26500 non-null  object\n",
      "dtypes: int64(1), object(5)\n",
      "memory usage: 1.2+ MB\n"
     ]
    }
   ],
   "source": [
    "salud2017[columnasSalud2017].info()"
   ]
  },
  {
   "cell_type": "code",
   "execution_count": 11,
   "metadata": {
    "cell_id": "7ff9a44f7d86494cb37c66a44c4108a4",
    "deepnote_cell_type": "code",
    "execution_context_id": "cac25676-6f04-46ac-a839-ae17a7654a45",
    "execution_millis": 7,
    "execution_start": 1730430962397,
    "source_hash": "605fcd8d"
   },
   "outputs": [
    {
     "name": "stdout",
     "output_type": "stream",
     "text": [
      "<class 'pandas.core.frame.DataFrame'>\n",
      "RangeIndex: 283012 entries, 0 to 283011\n",
      "Data columns (total 6 columns):\n",
      " #   Column                             Non-Null Count   Dtype \n",
      "---  ------                             --------------   ----- \n",
      " 0   ¿Está embarazada?                  283012 non-null  object\n",
      " 1   ¿Asiste a control prenatal?        283012 non-null  object\n",
      " 2   ¿Está afiliado?                    283012 non-null  int64 \n",
      " 3   ¿A qué régimen está afiliado?      283012 non-null  object\n",
      " 4   ¿Cómo es la calidad del servicio?  283012 non-null  object\n",
      " 5   ¿Por qué no está afiliado?         283012 non-null  object\n",
      "dtypes: int64(1), object(5)\n",
      "memory usage: 13.0+ MB\n"
     ]
    }
   ],
   "source": [
    "salud2018[columnasSalud2018].info()"
   ]
  },
  {
   "cell_type": "code",
   "execution_count": 12,
   "metadata": {
    "cell_id": "581b1c22ec9147da8b4b349e0426f379",
    "deepnote_cell_type": "code",
    "execution_context_id": "cac25676-6f04-46ac-a839-ae17a7654a45",
    "execution_millis": 0,
    "execution_start": 1730430962453,
    "source_hash": "b406e44c"
   },
   "outputs": [
    {
     "name": "stdout",
     "output_type": "stream",
     "text": [
      "<class 'pandas.core.frame.DataFrame'>\n",
      "RangeIndex: 257589 entries, 0 to 257588\n",
      "Data columns (total 6 columns):\n",
      " #   Column                             Non-Null Count   Dtype  \n",
      "---  ------                             --------------   -----  \n",
      " 0   ¿Asiste a control prenatal?        1439 non-null    float64\n",
      " 1   ¿Está afiliado?                    257589 non-null  int64  \n",
      " 2   ¿A qué régimen está afiliado?      240869 non-null  float64\n",
      " 3   ¿Cómo es la calidad del servicio?  240152 non-null  float64\n",
      " 4   ¿Por qué no está afiliado?         15579 non-null   float64\n",
      " 5   ¿Está embarazada?                  113214 non-null  float64\n",
      "dtypes: float64(5), int64(1)\n",
      "memory usage: 11.8 MB\n"
     ]
    }
   ],
   "source": [
    "salud2021[columnasSalud2021].info()"
   ]
  },
  {
   "cell_type": "code",
   "execution_count": 13,
   "metadata": {
    "cell_id": "6f58c07342564881ae4916b9b84a6767",
    "deepnote_cell_type": "code",
    "execution_context_id": "cac25676-6f04-46ac-a839-ae17a7654a45",
    "execution_millis": 0,
    "execution_start": 1730430962501,
    "source_hash": "233a2e53"
   },
   "outputs": [
    {
     "name": "stdout",
     "output_type": "stream",
     "text": [
      "<class 'pandas.core.frame.DataFrame'>\n",
      "RangeIndex: 251925 entries, 0 to 251924\n",
      "Data columns (total 6 columns):\n",
      " #   Column                             Non-Null Count   Dtype  \n",
      "---  ------                             --------------   -----  \n",
      " 0   ¿Asiste a control prenatal?        1302 non-null    float64\n",
      " 1   ¿Está afiliado?                    251925 non-null  int64  \n",
      " 2   ¿A qué régimen está afiliado?      239356 non-null  float64\n",
      " 3   ¿Cómo es la calidad del servicio?  238802 non-null  float64\n",
      " 4   ¿Por qué no está afiliado?         11496 non-null   float64\n",
      " 5   ¿Está embarazada?                  111290 non-null  float64\n",
      "dtypes: float64(5), int64(1)\n",
      "memory usage: 11.5 MB\n"
     ]
    }
   ],
   "source": [
    "salud2022[columnasSalud2022].info()"
   ]
  },
  {
   "cell_type": "markdown",
   "metadata": {
    "cell_id": "609870c174dd421db4f40f94ab8210f3",
    "deepnote_cell_type": "markdown"
   },
   "source": [
    "Vemos que hay problemas de consistencia en los tipos de datos, pues los atributos enteros de 2021 y 2022 aparecen como textos en 2017 y 2018. Al usar la siguiente linea de codigo, se ve que los valores nulos se toman como \" \", por tal razon se procedera a reemplazar estos valores por valores nulos"
   ]
  },
  {
   "cell_type": "code",
   "execution_count": 14,
   "metadata": {
    "cell_id": "7642ba8d2918421fa862d8c1f3e3f5fc",
    "deepnote_cell_type": "code",
    "execution_context_id": "cac25676-6f04-46ac-a839-ae17a7654a45",
    "execution_millis": 0,
    "execution_start": 1730430962549,
    "source_hash": "9f241e26"
   },
   "outputs": [
    {
     "data": {
      "text/plain": [
       "array([' ', '3', '2', '1'], dtype=object)"
      ]
     },
     "execution_count": 14,
     "metadata": {},
     "output_type": "execute_result"
    }
   ],
   "source": [
    "salud2017[\"¿Asiste a control prenatal?\"].unique()"
   ]
  },
  {
   "cell_type": "code",
   "execution_count": 15,
   "metadata": {
    "cell_id": "652a8331b9f34cddb8242a0e496edf5c",
    "deepnote_cell_type": "code",
    "execution_context_id": "cac25676-6f04-46ac-a839-ae17a7654a45",
    "execution_millis": 697,
    "execution_start": 1730430962609,
    "source_hash": "a93738a7"
   },
   "outputs": [],
   "source": [
    "for col in columnasSalud2017:\n",
    "    salud2017[col] = pd.to_numeric(salud2017[col], errors=\"coerce\")\n",
    "\n",
    "for col in columnasSalud2018:\n",
    "    salud2018[col] = pd.to_numeric(salud2018[col], errors=\"coerce\")"
   ]
  },
  {
   "cell_type": "code",
   "execution_count": 16,
   "metadata": {
    "cell_id": "6223d852fa184a4592e0aeae14258d19",
    "deepnote_cell_type": "code",
    "execution_context_id": "cac25676-6f04-46ac-a839-ae17a7654a45",
    "execution_millis": 0,
    "execution_start": 1730430963357,
    "source_hash": "db0467fc"
   },
   "outputs": [
    {
     "name": "stdout",
     "output_type": "stream",
     "text": [
      "<class 'pandas.core.frame.DataFrame'>\n",
      "RangeIndex: 26500 entries, 0 to 26499\n",
      "Data columns (total 6 columns):\n",
      " #   Column                             Non-Null Count  Dtype  \n",
      "---  ------                             --------------  -----  \n",
      " 0   ¿Está embarazada?                  8353 non-null   float64\n",
      " 1   ¿Asiste a control prenatal?        4307 non-null   float64\n",
      " 2   ¿Está afiliado?                    26500 non-null  int64  \n",
      " 3   ¿A qué régimen está afiliado?      25243 non-null  float64\n",
      " 4   ¿Cómo es la calidad del servicio?  25187 non-null  float64\n",
      " 5   ¿Por qué no está afiliado?         1214 non-null   float64\n",
      "dtypes: float64(5), int64(1)\n",
      "memory usage: 1.2 MB\n"
     ]
    }
   ],
   "source": [
    "salud2017[columnasSalud2017].info()"
   ]
  },
  {
   "cell_type": "code",
   "execution_count": 17,
   "metadata": {
    "cell_id": "6ee26732349e4067a68acd8e2d4d1fca",
    "deepnote_cell_type": "code",
    "execution_context_id": "cac25676-6f04-46ac-a839-ae17a7654a45",
    "execution_millis": 0,
    "execution_start": 1730430963413,
    "source_hash": "605fcd8d"
   },
   "outputs": [
    {
     "name": "stdout",
     "output_type": "stream",
     "text": [
      "<class 'pandas.core.frame.DataFrame'>\n",
      "RangeIndex: 283012 entries, 0 to 283011\n",
      "Data columns (total 6 columns):\n",
      " #   Column                             Non-Null Count   Dtype  \n",
      "---  ------                             --------------   -----  \n",
      " 0   ¿Está embarazada?                  85837 non-null   float64\n",
      " 1   ¿Asiste a control prenatal?        48340 non-null   float64\n",
      " 2   ¿Está afiliado?                    283012 non-null  int64  \n",
      " 3   ¿A qué régimen está afiliado?      264794 non-null  float64\n",
      " 4   ¿Cómo es la calidad del servicio?  264198 non-null  float64\n",
      " 5   ¿Por qué no está afiliado?         17166 non-null   float64\n",
      "dtypes: float64(5), int64(1)\n",
      "memory usage: 13.0 MB\n"
     ]
    }
   ],
   "source": [
    "salud2018[columnasSalud2018].info()"
   ]
  },
  {
   "cell_type": "markdown",
   "metadata": {},
   "source": [
    "Finalmente, se unen los 4 datasets en uno unico, para facilitar el analisis de los datos"
   ]
  },
  {
   "cell_type": "code",
   "execution_count": 18,
   "metadata": {
    "cell_id": "a1050bd59f984ffc8dc80ea130763e01",
    "deepnote_cell_type": "code",
    "execution_context_id": "cac25676-6f04-46ac-a839-ae17a7654a45",
    "execution_millis": 16,
    "execution_start": 1730430963465,
    "source_hash": "5c81f768"
   },
   "outputs": [
    {
     "data": {
      "text/html": [
       "<div>\n",
       "<style scoped>\n",
       "    .dataframe tbody tr th:only-of-type {\n",
       "        vertical-align: middle;\n",
       "    }\n",
       "\n",
       "    .dataframe tbody tr th {\n",
       "        vertical-align: top;\n",
       "    }\n",
       "\n",
       "    .dataframe thead th {\n",
       "        text-align: right;\n",
       "    }\n",
       "</style>\n",
       "<table border=\"1\" class=\"dataframe\">\n",
       "  <thead>\n",
       "    <tr style=\"text-align: right;\">\n",
       "      <th></th>\n",
       "      <th>¿Está embarazada?</th>\n",
       "      <th>¿Asiste a control prenatal?</th>\n",
       "      <th>¿Está afiliado?</th>\n",
       "      <th>¿A qué régimen está afiliado?</th>\n",
       "      <th>¿Cómo es la calidad del servicio?</th>\n",
       "      <th>¿Por qué no está afiliado?</th>\n",
       "      <th>año</th>\n",
       "    </tr>\n",
       "  </thead>\n",
       "  <tbody>\n",
       "    <tr>\n",
       "      <th>61926</th>\n",
       "      <td>NaN</td>\n",
       "      <td>NaN</td>\n",
       "      <td>1</td>\n",
       "      <td>1.0</td>\n",
       "      <td>2.0</td>\n",
       "      <td>NaN</td>\n",
       "      <td>2018</td>\n",
       "    </tr>\n",
       "    <tr>\n",
       "      <th>627943</th>\n",
       "      <td>NaN</td>\n",
       "      <td>NaN</td>\n",
       "      <td>2</td>\n",
       "      <td>NaN</td>\n",
       "      <td>NaN</td>\n",
       "      <td>8.0</td>\n",
       "      <td>2022</td>\n",
       "    </tr>\n",
       "    <tr>\n",
       "      <th>727910</th>\n",
       "      <td>1.0</td>\n",
       "      <td>NaN</td>\n",
       "      <td>1</td>\n",
       "      <td>3.0</td>\n",
       "      <td>2.0</td>\n",
       "      <td>NaN</td>\n",
       "      <td>2022</td>\n",
       "    </tr>\n",
       "    <tr>\n",
       "      <th>489543</th>\n",
       "      <td>NaN</td>\n",
       "      <td>NaN</td>\n",
       "      <td>1</td>\n",
       "      <td>3.0</td>\n",
       "      <td>2.0</td>\n",
       "      <td>NaN</td>\n",
       "      <td>2021</td>\n",
       "    </tr>\n",
       "    <tr>\n",
       "      <th>162670</th>\n",
       "      <td>NaN</td>\n",
       "      <td>NaN</td>\n",
       "      <td>1</td>\n",
       "      <td>1.0</td>\n",
       "      <td>2.0</td>\n",
       "      <td>NaN</td>\n",
       "      <td>2018</td>\n",
       "    </tr>\n",
       "    <tr>\n",
       "      <th>337412</th>\n",
       "      <td>1.0</td>\n",
       "      <td>NaN</td>\n",
       "      <td>1</td>\n",
       "      <td>3.0</td>\n",
       "      <td>2.0</td>\n",
       "      <td>NaN</td>\n",
       "      <td>2021</td>\n",
       "    </tr>\n",
       "    <tr>\n",
       "      <th>174309</th>\n",
       "      <td>NaN</td>\n",
       "      <td>NaN</td>\n",
       "      <td>1</td>\n",
       "      <td>3.0</td>\n",
       "      <td>2.0</td>\n",
       "      <td>NaN</td>\n",
       "      <td>2018</td>\n",
       "    </tr>\n",
       "    <tr>\n",
       "      <th>82949</th>\n",
       "      <td>2.0</td>\n",
       "      <td>NaN</td>\n",
       "      <td>1</td>\n",
       "      <td>1.0</td>\n",
       "      <td>2.0</td>\n",
       "      <td>NaN</td>\n",
       "      <td>2018</td>\n",
       "    </tr>\n",
       "    <tr>\n",
       "      <th>104407</th>\n",
       "      <td>NaN</td>\n",
       "      <td>NaN</td>\n",
       "      <td>1</td>\n",
       "      <td>1.0</td>\n",
       "      <td>2.0</td>\n",
       "      <td>NaN</td>\n",
       "      <td>2018</td>\n",
       "    </tr>\n",
       "    <tr>\n",
       "      <th>483442</th>\n",
       "      <td>NaN</td>\n",
       "      <td>NaN</td>\n",
       "      <td>1</td>\n",
       "      <td>3.0</td>\n",
       "      <td>2.0</td>\n",
       "      <td>NaN</td>\n",
       "      <td>2021</td>\n",
       "    </tr>\n",
       "  </tbody>\n",
       "</table>\n",
       "</div>"
      ],
      "text/plain": [
       "        ¿Está embarazada?  ¿Asiste a control prenatal?  ¿Está afiliado?  \\\n",
       "61926                 NaN                          NaN                1   \n",
       "627943                NaN                          NaN                2   \n",
       "727910                1.0                          NaN                1   \n",
       "489543                NaN                          NaN                1   \n",
       "162670                NaN                          NaN                1   \n",
       "337412                1.0                          NaN                1   \n",
       "174309                NaN                          NaN                1   \n",
       "82949                 2.0                          NaN                1   \n",
       "104407                NaN                          NaN                1   \n",
       "483442                NaN                          NaN                1   \n",
       "\n",
       "        ¿A qué régimen está afiliado?  ¿Cómo es la calidad del servicio?  \\\n",
       "61926                             1.0                                2.0   \n",
       "627943                            NaN                                NaN   \n",
       "727910                            3.0                                2.0   \n",
       "489543                            3.0                                2.0   \n",
       "162670                            1.0                                2.0   \n",
       "337412                            3.0                                2.0   \n",
       "174309                            3.0                                2.0   \n",
       "82949                             1.0                                2.0   \n",
       "104407                            1.0                                2.0   \n",
       "483442                            3.0                                2.0   \n",
       "\n",
       "        ¿Por qué no está afiliado?   año  \n",
       "61926                          NaN  2018  \n",
       "627943                         8.0  2022  \n",
       "727910                         NaN  2022  \n",
       "489543                         NaN  2021  \n",
       "162670                         NaN  2018  \n",
       "337412                         NaN  2021  \n",
       "174309                         NaN  2018  \n",
       "82949                          NaN  2018  \n",
       "104407                         NaN  2018  \n",
       "483442                         NaN  2021  "
      ]
     },
     "execution_count": 18,
     "metadata": {},
     "output_type": "execute_result"
    }
   ],
   "source": [
    "salud2017['año'] = 2017\n",
    "salud2018['año'] = 2018\n",
    "salud2021['año'] = 2021\n",
    "salud2022['año'] = 2022\n",
    "\n",
    "salud_df = pd.concat([salud2017[columnasSalud2017 + [\"año\"]], salud2018[columnasSalud2018+ [\"año\"]], salud2021[columnasSalud2021+ [\"año\"]], salud2022[columnasSalud2022+ [\"año\"]]], axis=0)\n",
    "salud_df.reset_index(drop=True, inplace=True)\n",
    "salud_df.sample(10)"
   ]
  },
  {
   "cell_type": "markdown",
   "metadata": {
    "cell_id": "5f6cacc01bdb49a9a5b090746444a1ef",
    "deepnote_cell_type": "markdown",
    "id": "xhd-VBJxT10z"
   },
   "source": [
    "## 2. Entendimiento de los datos"
   ]
  },
  {
   "cell_type": "markdown",
   "metadata": {
    "cell_id": "123e99c6584a4eafb7e966a9537031e9",
    "deepnote_cell_type": "markdown",
    "id": "6hpqAaCfJgVx"
   },
   "source": [
    "## 2.1. Análisis de calidad de datos\n",
    "\n",
    "\n",
    "\n"
   ]
  },
  {
   "cell_type": "markdown",
   "metadata": {
    "cell_id": "87edba73baf94951b280f882d8907990",
    "deepnote_cell_type": "markdown",
    "id": "bW2FKJVfT10z"
   },
   "source": [
    "## 2.1.1. Análisis de completitud\n",
    "A continuación, se presentan los porcentajes de completitud e incompletitud para cada uno de los atributos."
   ]
  },
  {
   "cell_type": "code",
   "execution_count": 19,
   "metadata": {
    "cell_id": "34ecce578255454785274ccafb78f38a",
    "colab": {
     "base_uri": "https://localhost:8080/",
     "height": 112
    },
    "deepnote_cell_type": "code",
    "execution_context_id": "cac25676-6f04-46ac-a839-ae17a7654a45",
    "execution_millis": 1,
    "execution_start": 1730430963533,
    "id": "Z_X2Pl-pT10z",
    "outputId": "67512146-df91-46fa-d5b6-310dd36c7915",
    "source_hash": "859ec5d5"
   },
   "outputs": [
    {
     "data": {
      "text/html": [
       "<div>\n",
       "<style scoped>\n",
       "    .dataframe tbody tr th:only-of-type {\n",
       "        vertical-align: middle;\n",
       "    }\n",
       "\n",
       "    .dataframe tbody tr th {\n",
       "        vertical-align: top;\n",
       "    }\n",
       "\n",
       "    .dataframe thead th {\n",
       "        text-align: right;\n",
       "    }\n",
       "</style>\n",
       "<table border=\"1\" class=\"dataframe\">\n",
       "  <thead>\n",
       "    <tr style=\"text-align: right;\">\n",
       "      <th></th>\n",
       "      <th>Atributo</th>\n",
       "      <th>Completitud (%)</th>\n",
       "      <th>Incompletitud (%)</th>\n",
       "    </tr>\n",
       "  </thead>\n",
       "  <tbody>\n",
       "    <tr>\n",
       "      <th>0</th>\n",
       "      <td>¿Por qué no está afiliado?</td>\n",
       "      <td>5.549885</td>\n",
       "      <td>94.450115</td>\n",
       "    </tr>\n",
       "    <tr>\n",
       "      <th>1</th>\n",
       "      <td>¿Asiste a control prenatal?</td>\n",
       "      <td>6.762667</td>\n",
       "      <td>93.237333</td>\n",
       "    </tr>\n",
       "    <tr>\n",
       "      <th>2</th>\n",
       "      <td>¿Está embarazada?</td>\n",
       "      <td>38.911341</td>\n",
       "      <td>61.088659</td>\n",
       "    </tr>\n",
       "    <tr>\n",
       "      <th>3</th>\n",
       "      <td>¿Cómo es la calidad del servicio?</td>\n",
       "      <td>93.811308</td>\n",
       "      <td>6.188692</td>\n",
       "    </tr>\n",
       "    <tr>\n",
       "      <th>4</th>\n",
       "      <td>¿A qué régimen está afiliado?</td>\n",
       "      <td>94.046099</td>\n",
       "      <td>5.953901</td>\n",
       "    </tr>\n",
       "    <tr>\n",
       "      <th>5</th>\n",
       "      <td>¿Está afiliado?</td>\n",
       "      <td>100.000000</td>\n",
       "      <td>0.000000</td>\n",
       "    </tr>\n",
       "    <tr>\n",
       "      <th>6</th>\n",
       "      <td>año</td>\n",
       "      <td>100.000000</td>\n",
       "      <td>0.000000</td>\n",
       "    </tr>\n",
       "  </tbody>\n",
       "</table>\n",
       "</div>"
      ],
      "text/plain": [
       "                            Atributo  Completitud (%)  Incompletitud (%)\n",
       "0         ¿Por qué no está afiliado?         5.549885          94.450115\n",
       "1        ¿Asiste a control prenatal?         6.762667          93.237333\n",
       "2                  ¿Está embarazada?        38.911341          61.088659\n",
       "3  ¿Cómo es la calidad del servicio?        93.811308           6.188692\n",
       "4      ¿A qué régimen está afiliado?        94.046099           5.953901\n",
       "5                    ¿Está afiliado?       100.000000           0.000000\n",
       "6                                año       100.000000           0.000000"
      ]
     },
     "execution_count": 19,
     "metadata": {},
     "output_type": "execute_result"
    }
   ],
   "source": [
    "porcentajeIncompletitudAtributo =  (100 * salud_df.isnull().sum() / salud_df.shape[0]).sort_values(ascending=False)\n",
    "pd.DataFrame({\n",
    "    \"Atributo\": porcentajeIncompletitudAtributo.index,\n",
    "    \"Completitud (%)\": 100 - porcentajeIncompletitudAtributo.values,\n",
    "    \"Incompletitud (%)\": porcentajeIncompletitudAtributo.values\n",
    "})"
   ]
  },
  {
   "cell_type": "markdown",
   "metadata": {
    "cell_id": "4c34baf30d7f43409a54d33eb0b2e930",
    "deepnote_cell_type": "markdown"
   },
   "source": [
    "Si bien se ve una alta incompletitud, los atributos más \"incompletos\" son aquellos que de alguna u otra manera estan limitados por otros atributos, lo que es la causa de su incompletitud."
   ]
  },
  {
   "cell_type": "markdown",
   "metadata": {
    "cell_id": "cc00991e6f92404f97b5d1bbd550a5b6",
    "deepnote_cell_type": "markdown",
    "id": "bi8woOmSJqzi"
   },
   "source": [
    "## 2.1.2. Análisis de unicidad\n",
    "A continuación, se buscará determinar cuántas filas duplicadas hay en el dataset"
   ]
  },
  {
   "cell_type": "code",
   "execution_count": 20,
   "metadata": {
    "cell_id": "ea4b2c2d4a084c048cf154914c33ccd9",
    "colab": {
     "base_uri": "https://localhost:8080/"
    },
    "deepnote_cell_type": "code",
    "execution_context_id": "cac25676-6f04-46ac-a839-ae17a7654a45",
    "execution_millis": 1,
    "execution_start": 1730430963585,
    "id": "q8dECLc_JtEY",
    "outputId": "9f328fbc-10fe-4629-f3b9-d0f4ea3edb90",
    "source_hash": "26abb2ce"
   },
   "outputs": [
    {
     "name": "stdout",
     "output_type": "stream",
     "text": [
      "Se cuenta con 818581 registros duplicados (99.95%)\n"
     ]
    }
   ],
   "source": [
    "registrosDuplicados = salud_df.duplicated()\n",
    "totalDuplicados = registrosDuplicados.sum()\n",
    "totalOpiniones = salud_df.shape[0]\n",
    "porcentajeDuplicados = 100.0 * totalDuplicados / totalOpiniones\n",
    "print(f\"Se cuenta con {totalDuplicados} registros duplicados ({porcentajeDuplicados:.2f}%)\")\n",
    "\n"
   ]
  },
  {
   "cell_type": "markdown",
   "metadata": {
    "cell_id": "3fbdd357e87c47e797a5c5b606ed80b6",
    "deepnote_cell_type": "markdown",
    "id": "o4AJqOoXUmQ-"
   },
   "source": [
    "Los datos presentan un alto porcentaje de duplicados, lo cual se debe a que se cuenta con un subconjunto muy limitado de los atributos totales, teniendo cada uno de estos valores una lista de posibles valores corta y que estan muy relacionadas entre si. Por estas razones, no se deberia realizar preparacion de datos con respecto a problemas de unicidad."
   ]
  },
  {
   "cell_type": "markdown",
   "metadata": {
    "cell_id": "3f04d9c088d140d98b3351dfd3d46ff3",
    "deepnote_cell_type": "markdown",
    "id": "FRM88NzK6U-J"
   },
   "source": [
    "## 2.1.3. Análisis de validez\n",
    "De acuerdo al diccionario de datos del año 2022, se deberian tener los siguientes posibles valores por cada atributo:\n",
    "\n",
    "** ¿Está embarazada? **\n",
    "1 Si\n",
    "2 No\n",
    "\n",
    "** ¿Asiste a control prenatal? **\n",
    "1 Sí\n",
    "2 No\n",
    "3 No está embarazada\n",
    "\n",
    "** ¿Está afiliado? **\n",
    "1 Si\n",
    "2 No\n",
    "9 No sabe, no informa\n",
    "\n",
    "\n",
    "** ¿A qué regimen está afiliado? **\n",
    "1 Contributivo (eps)\n",
    "2 Especial (fuerzas armadas, ecopetrol, universidades públicas, magisterio)\n",
    "3 Subsidiado (eps-s)\n",
    "9 No sabe, no informa\n",
    "\n",
    "** ¿Cómo es la calidad del servicio? **\n",
    "1 Muy buena\n",
    "2 Buena\n",
    "3 Mala\n",
    "4 Muy mala\n",
    "9 No sabe\n",
    "\n",
    "** ¿Por qué no está afiliado? **\n",
    "1 Por falta de dinero\n",
    "2 Muchos trámites\n",
    "3 No le interesa o descuido\n",
    "4 No sabe que debe afiliarse\n",
    "5 No está vinculado/a laboralmente a una empresa o entidad (Usted o la persona de la que es beneficiario/a)\n",
    "6 Está en trámite de afiliación\n",
    "7 Problemas con el Sisben (no lo/a han visitado, afiliado/a en otro municipio, lo/a desvincularon, le asignaron puntaje alto)\n",
    "8 Falta de documentación\n",
    "9 Otra razón\n",
    "\n",
    "\n",
    "\n",
    "\n",
    "\n",
    "\n",
    "\n",
    "\n"
   ]
  },
  {
   "cell_type": "code",
   "execution_count": 21,
   "metadata": {
    "cell_id": "165f710b1903443b87e53a4e3be08596",
    "colab": {
     "base_uri": "https://localhost:8080/",
     "height": 143
    },
    "deepnote_cell_type": "code",
    "execution_context_id": "cac25676-6f04-46ac-a839-ae17a7654a45",
    "execution_millis": 0,
    "execution_start": 1730430963633,
    "id": "z0fZSb5mWYBL",
    "outputId": "cf2efcb5-6e3d-4c4b-cac0-042d0f188acd",
    "source_hash": "16ef5acf"
   },
   "outputs": [
    {
     "name": "stdout",
     "output_type": "stream",
     "text": [
      "¿Está embarazada? : [np.float64(nan), np.float64(1.0), np.float64(2.0)]\n",
      "¿Asiste a control prenatal? : [np.float64(nan), np.float64(1.0), np.float64(2.0), np.float64(3.0)]\n",
      "¿Está afiliado? : [np.int64(1), np.int64(2), np.int64(9)]\n",
      "¿A qué régimen está afiliado? : [np.float64(1.0), np.float64(2.0), np.float64(3.0), np.float64(nan), np.float64(9.0)]\n",
      "¿Cómo es la calidad del servicio? : [np.float64(1.0), np.float64(2.0), np.float64(3.0), np.float64(4.0), np.float64(9.0), np.float64(nan)]\n",
      "¿Por qué no está afiliado? : [np.float64(nan), np.float64(1.0), np.float64(2.0), np.float64(3.0), np.float64(4.0), np.float64(5.0), np.float64(6.0), np.float64(7.0), np.float64(8.0), np.float64(9.0)]\n",
      "año : [np.int64(2017), np.int64(2018), np.int64(2021), np.int64(2022)]\n"
     ]
    }
   ],
   "source": [
    "for col in salud_df:\n",
    "    print(col, \":\", sorted(salud_df[col].unique()))\n",
    "\n"
   ]
  },
  {
   "cell_type": "markdown",
   "metadata": {
    "cell_id": "5179b89f9f0d444d8cd51611c6f7a449",
    "deepnote_cell_type": "markdown"
   },
   "source": [
    "De acuerdo con los resultados anteriores, no se debería realizar preparación de datos con problemas de validez, pues todos los valores de los atributos son aceptables."
   ]
  },
  {
   "cell_type": "markdown",
   "metadata": {
    "cell_id": "5c89d6e41feb4768aad4e3e99355738f",
    "deepnote_cell_type": "markdown",
    "id": "A1vuYKiZ6U-J"
   },
   "source": [
    "## 2.1.4. Análisis de consistencia\n",
    "\n",
    "El único problema de consistencia se mencionó en la sección 1, donde en una pareja de conjuntos de datos se tenia el atributo \"¿ha estado embarazada alguna vez en su vida? (P3335)\" mientras que otra pareja tenia el atributo \n",
    "\"¿Está embarazada actualmente o ha tenido hijos? (P5672)\" que en escencia hacian referencia a lo mismo. No se identificaron mas tareas a realizar por parte de problemas de consistencias."
   ]
  },
  {
   "cell_type": "markdown",
   "metadata": {
    "cell_id": "1f321f8d80144472b8a68f6a43d6accf",
    "deepnote_cell_type": "markdown"
   },
   "source": [
    "# 3. Resumen de los cambios realizados"
   ]
  }
 ],
 "metadata": {
  "deepnote_notebook_id": "7e14edd71479414985e39b6117c93986",
  "kernelspec": {
   "display_name": "Python 3",
   "language": "python",
   "name": "python3"
  },
  "language_info": {
   "codemirror_mode": {
    "name": "ipython",
    "version": 3
   },
   "file_extension": ".py",
   "mimetype": "text/x-python",
   "name": "python",
   "nbconvert_exporter": "python",
   "pygments_lexer": "ipython3",
   "version": "3.12.5"
  }
 },
 "nbformat": 4,
 "nbformat_minor": 0
}
