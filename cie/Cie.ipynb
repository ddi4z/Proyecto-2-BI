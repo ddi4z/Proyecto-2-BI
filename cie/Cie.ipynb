{
 "cells": [
  {
   "cell_type": "markdown",
   "metadata": {
    "cell_id": "d47e29e5a75047028affa347d9f31f31",
    "deepnote_cell_type": "markdown",
    "id": "TbJVdEgiT10x"
   },
   "source": [
    "# Análisis de Clasificación Internacional de Enfermedades\n",
    "\n",
    "## Integrantes - Grupo 15\n",
    "\n",
    "- Sara Sofia Cárdenas Rodríguez - 202214907\n",
    "- Daniel Felipe Diaz Moreno - 202210773\n",
    "- Juan Sebastián Urrea López - 201914710\n"
   ]
  },
  {
   "cell_type": "markdown",
   "metadata": {
    "cell_id": "dae9268966f3426ea18c27846fc4ee37",
    "deepnote_cell_type": "markdown",
    "id": "W8bV2RZ0T10x"
   },
   "source": [
    "## Los datos\n",
    "\n",
    "Se trabaja con un conjunto de datos que contiene los codigos de enfemerdades de la Clasificación Internacional de Enfermedades (CIE) con sus correspondientes significados\n"
   ]
  },
  {
   "cell_type": "markdown",
   "metadata": {
    "cell_id": "92d65db1ff7a4d5d95f0b94a5dca25f0",
    "deepnote_cell_type": "markdown",
    "id": "RVDZ5IMpT10y"
   },
   "source": [
    "## 1. Carga y Manipulación básica de los Datos"
   ]
  },
  {
   "cell_type": "code",
   "execution_count": 43,
   "metadata": {
    "cell_id": "25f89e9c22d54a83a38a71795dc6ebd5",
    "colab": {
     "base_uri": "https://localhost:8080/"
    },
    "deepnote_cell_type": "code",
    "execution_context_id": "cac25676-6f04-46ac-a839-ae17a7654a45",
    "execution_millis": 1107,
    "execution_start": 1730430956105,
    "id": "lFYczuz7T10x",
    "outputId": "9b3b137e-fca9-4c73-eaee-c2d918054ebd",
    "source_hash": "dda32890"
   },
   "outputs": [
    {
     "name": "stdout",
     "output_type": "stream",
     "text": [
      "Requirement already satisfied: xlrd in c:\\users\\danie\\appdata\\local\\programs\\python\\python312\\lib\\site-packages (2.0.1)\n"
     ]
    },
    {
     "name": "stderr",
     "output_type": "stream",
     "text": [
      "\n",
      "[notice] A new release of pip is available: 24.2 -> 24.3.1\n",
      "[notice] To update, run: python.exe -m pip install --upgrade pip\n"
     ]
    }
   ],
   "source": [
    "# Importaciones de bibliotecas\n",
    "import pandas as pd\n",
    "!pip  install xlrd"
   ]
  },
  {
   "cell_type": "code",
   "execution_count": 44,
   "metadata": {
    "cell_id": "26e8ef7ad1964c17a0ea26dec858c01b",
    "deepnote_cell_type": "code",
    "execution_context_id": "cac25676-6f04-46ac-a839-ae17a7654a45",
    "execution_millis": 4664,
    "execution_start": 1730430957269,
    "id": "fRFCIRjvT10y",
    "source_hash": "70469b0a"
   },
   "outputs": [
    {
     "name": "stdout",
     "output_type": "stream",
     "text": [
      "Las dimensiones del archivo son: (12423, 4)\n"
     ]
    },
    {
     "data": {
      "text/html": [
       "<div>\n",
       "<style scoped>\n",
       "    .dataframe tbody tr th:only-of-type {\n",
       "        vertical-align: middle;\n",
       "    }\n",
       "\n",
       "    .dataframe tbody tr th {\n",
       "        vertical-align: top;\n",
       "    }\n",
       "\n",
       "    .dataframe thead th {\n",
       "        text-align: right;\n",
       "    }\n",
       "</style>\n",
       "<table border=\"1\" class=\"dataframe\">\n",
       "  <thead>\n",
       "    <tr style=\"text-align: right;\">\n",
       "      <th></th>\n",
       "      <th>COD_3</th>\n",
       "      <th>DESRIPCION CATEGORIAS DE TRES CARACTERES</th>\n",
       "      <th>COD_4</th>\n",
       "      <th>DESCRIPCION CODIGOS DE CUATRO CARACTERES</th>\n",
       "    </tr>\n",
       "  </thead>\n",
       "  <tbody>\n",
       "    <tr>\n",
       "      <th>0</th>\n",
       "      <td>A00</td>\n",
       "      <td>COLERA</td>\n",
       "      <td>A000</td>\n",
       "      <td>COLERA DEBIDO A VIBRIO CHOLERAE O1, BIOTIPO CH...</td>\n",
       "    </tr>\n",
       "    <tr>\n",
       "      <th>1</th>\n",
       "      <td>NaN</td>\n",
       "      <td>NaN</td>\n",
       "      <td>A001</td>\n",
       "      <td>COLERA DEBIDO A VIBRIO CHOLERAE O1, BIOTIPO EL...</td>\n",
       "    </tr>\n",
       "    <tr>\n",
       "      <th>2</th>\n",
       "      <td>NaN</td>\n",
       "      <td>NaN</td>\n",
       "      <td>A009</td>\n",
       "      <td>COLERA NO ESPECIFICADO</td>\n",
       "    </tr>\n",
       "    <tr>\n",
       "      <th>3</th>\n",
       "      <td>A01</td>\n",
       "      <td>FIEBRES TIFOIDEA Y PARATIFOIDEA</td>\n",
       "      <td>A010</td>\n",
       "      <td>FIEBRE TIFOIDEA</td>\n",
       "    </tr>\n",
       "    <tr>\n",
       "      <th>4</th>\n",
       "      <td>NaN</td>\n",
       "      <td>NaN</td>\n",
       "      <td>A011</td>\n",
       "      <td>FIEBRE PARATIFOIDEA A</td>\n",
       "    </tr>\n",
       "    <tr>\n",
       "      <th>5</th>\n",
       "      <td>NaN</td>\n",
       "      <td>NaN</td>\n",
       "      <td>A012</td>\n",
       "      <td>FIEBRE PARATIFOIDEA B</td>\n",
       "    </tr>\n",
       "    <tr>\n",
       "      <th>6</th>\n",
       "      <td>NaN</td>\n",
       "      <td>NaN</td>\n",
       "      <td>A013</td>\n",
       "      <td>FIEBRE PARATIFOIDEA C</td>\n",
       "    </tr>\n",
       "    <tr>\n",
       "      <th>7</th>\n",
       "      <td>NaN</td>\n",
       "      <td>NaN</td>\n",
       "      <td>A014</td>\n",
       "      <td>FIEBRE PARATIFOIDEA, NO ESPECIFICADA</td>\n",
       "    </tr>\n",
       "    <tr>\n",
       "      <th>8</th>\n",
       "      <td>A02</td>\n",
       "      <td>OTRAS INFECCIONES DEBIDAS SALMONELLA</td>\n",
       "      <td>A020</td>\n",
       "      <td>ENTERITIS DEBIDA A SALMONELLA</td>\n",
       "    </tr>\n",
       "    <tr>\n",
       "      <th>9</th>\n",
       "      <td>NaN</td>\n",
       "      <td>NaN</td>\n",
       "      <td>A021</td>\n",
       "      <td>SEPTICEMIA DEBIDA A SALMONELLA</td>\n",
       "    </tr>\n",
       "  </tbody>\n",
       "</table>\n",
       "</div>"
      ],
      "text/plain": [
       "  COD_3 DESRIPCION CATEGORIAS DE TRES CARACTERES COD_4  \\\n",
       "0   A00                                   COLERA  A000   \n",
       "1   NaN                                      NaN  A001   \n",
       "2   NaN                                      NaN  A009   \n",
       "3   A01          FIEBRES TIFOIDEA Y PARATIFOIDEA  A010   \n",
       "4   NaN                                      NaN  A011   \n",
       "5   NaN                                      NaN  A012   \n",
       "6   NaN                                      NaN  A013   \n",
       "7   NaN                                      NaN  A014   \n",
       "8   A02     OTRAS INFECCIONES DEBIDAS SALMONELLA  A020   \n",
       "9   NaN                                      NaN  A021   \n",
       "\n",
       "            DESCRIPCION CODIGOS DE CUATRO CARACTERES  \n",
       "0  COLERA DEBIDO A VIBRIO CHOLERAE O1, BIOTIPO CH...  \n",
       "1  COLERA DEBIDO A VIBRIO CHOLERAE O1, BIOTIPO EL...  \n",
       "2                             COLERA NO ESPECIFICADO  \n",
       "3                                    FIEBRE TIFOIDEA  \n",
       "4                              FIEBRE PARATIFOIDEA A  \n",
       "5                              FIEBRE PARATIFOIDEA B  \n",
       "6                              FIEBRE PARATIFOIDEA C  \n",
       "7               FIEBRE PARATIFOIDEA, NO ESPECIFICADA  \n",
       "8                      ENTERITIS DEBIDA A SALMONELLA  \n",
       "9                     SEPTICEMIA DEBIDA A SALMONELLA  "
      ]
     },
     "execution_count": 44,
     "metadata": {},
     "output_type": "execute_result"
    }
   ],
   "source": [
    "cie_df = pd.read_excel(\"Cie.xls\", skiprows=6)\n",
    "\n",
    "\n",
    "print(f\"Las dimensiones del archivo son: {cie_df.shape}\")\n",
    "cie_df.head(10)"
   ]
  },
  {
   "cell_type": "markdown",
   "metadata": {
    "cell_id": "b3cbef35c6af4f3094914af93fc28893",
    "deepnote_cell_type": "markdown"
   },
   "source": [
    "Los unicos atributos de interés son COD_4 y DESCRIPCION CODIGOS DE CUATRO CARACTERES, asi que se eliminarán los demás atributos"
   ]
  },
  {
   "cell_type": "code",
   "execution_count": 45,
   "metadata": {
    "cell_id": "89c7542409c84bafa5de8438ac6d67c9",
    "colab": {
     "base_uri": "https://localhost:8080/"
    },
    "deepnote_cell_type": "code",
    "execution_context_id": "cac25676-6f04-46ac-a839-ae17a7654a45",
    "execution_millis": 0,
    "execution_start": 1730430961989,
    "id": "JMJGZJTgT10y",
    "outputId": "4a2fdb98-6d1e-405d-bbfd-d693d0b71a2b",
    "source_hash": "7a40138e"
   },
   "outputs": [
    {
     "name": "stdout",
     "output_type": "stream",
     "text": [
      "Index(['COD_3', 'DESRIPCION CATEGORIAS DE TRES CARACTERES', 'COD_4',\n",
      "       'DESCRIPCION CODIGOS DE CUATRO CARACTERES'],\n",
      "      dtype='object')\n"
     ]
    },
    {
     "data": {
      "text/html": [
       "<div>\n",
       "<style scoped>\n",
       "    .dataframe tbody tr th:only-of-type {\n",
       "        vertical-align: middle;\n",
       "    }\n",
       "\n",
       "    .dataframe tbody tr th {\n",
       "        vertical-align: top;\n",
       "    }\n",
       "\n",
       "    .dataframe thead th {\n",
       "        text-align: right;\n",
       "    }\n",
       "</style>\n",
       "<table border=\"1\" class=\"dataframe\">\n",
       "  <thead>\n",
       "    <tr style=\"text-align: right;\">\n",
       "      <th></th>\n",
       "      <th>COD_4</th>\n",
       "      <th>DESCRIPCION CODIGOS DE CUATRO CARACTERES</th>\n",
       "    </tr>\n",
       "  </thead>\n",
       "  <tbody>\n",
       "    <tr>\n",
       "      <th>0</th>\n",
       "      <td>A000</td>\n",
       "      <td>COLERA DEBIDO A VIBRIO CHOLERAE O1, BIOTIPO CH...</td>\n",
       "    </tr>\n",
       "    <tr>\n",
       "      <th>1</th>\n",
       "      <td>A001</td>\n",
       "      <td>COLERA DEBIDO A VIBRIO CHOLERAE O1, BIOTIPO EL...</td>\n",
       "    </tr>\n",
       "    <tr>\n",
       "      <th>2</th>\n",
       "      <td>A009</td>\n",
       "      <td>COLERA NO ESPECIFICADO</td>\n",
       "    </tr>\n",
       "    <tr>\n",
       "      <th>3</th>\n",
       "      <td>A010</td>\n",
       "      <td>FIEBRE TIFOIDEA</td>\n",
       "    </tr>\n",
       "    <tr>\n",
       "      <th>4</th>\n",
       "      <td>A011</td>\n",
       "      <td>FIEBRE PARATIFOIDEA A</td>\n",
       "    </tr>\n",
       "    <tr>\n",
       "      <th>5</th>\n",
       "      <td>A012</td>\n",
       "      <td>FIEBRE PARATIFOIDEA B</td>\n",
       "    </tr>\n",
       "    <tr>\n",
       "      <th>6</th>\n",
       "      <td>A013</td>\n",
       "      <td>FIEBRE PARATIFOIDEA C</td>\n",
       "    </tr>\n",
       "    <tr>\n",
       "      <th>7</th>\n",
       "      <td>A014</td>\n",
       "      <td>FIEBRE PARATIFOIDEA, NO ESPECIFICADA</td>\n",
       "    </tr>\n",
       "    <tr>\n",
       "      <th>8</th>\n",
       "      <td>A020</td>\n",
       "      <td>ENTERITIS DEBIDA A SALMONELLA</td>\n",
       "    </tr>\n",
       "    <tr>\n",
       "      <th>9</th>\n",
       "      <td>A021</td>\n",
       "      <td>SEPTICEMIA DEBIDA A SALMONELLA</td>\n",
       "    </tr>\n",
       "  </tbody>\n",
       "</table>\n",
       "</div>"
      ],
      "text/plain": [
       "  COD_4           DESCRIPCION CODIGOS DE CUATRO CARACTERES\n",
       "0  A000  COLERA DEBIDO A VIBRIO CHOLERAE O1, BIOTIPO CH...\n",
       "1  A001  COLERA DEBIDO A VIBRIO CHOLERAE O1, BIOTIPO EL...\n",
       "2  A009                             COLERA NO ESPECIFICADO\n",
       "3  A010                                    FIEBRE TIFOIDEA\n",
       "4  A011                              FIEBRE PARATIFOIDEA A\n",
       "5  A012                              FIEBRE PARATIFOIDEA B\n",
       "6  A013                              FIEBRE PARATIFOIDEA C\n",
       "7  A014               FIEBRE PARATIFOIDEA, NO ESPECIFICADA\n",
       "8  A020                      ENTERITIS DEBIDA A SALMONELLA\n",
       "9  A021                     SEPTICEMIA DEBIDA A SALMONELLA"
      ]
     },
     "execution_count": 45,
     "metadata": {},
     "output_type": "execute_result"
    }
   ],
   "source": [
    "print(cie_df.columns)\n",
    "columnasCie = ['COD_4', 'DESCRIPCION CODIGOS DE CUATRO CARACTERES']\n",
    "cie_df[columnasCie].head(10)"
   ]
  },
  {
   "cell_type": "code",
   "execution_count": 46,
   "metadata": {
    "cell_id": "c37d89aa55564643a6f8112d1c292fae",
    "deepnote_cell_type": "code",
    "execution_context_id": "cac25676-6f04-46ac-a839-ae17a7654a45",
    "execution_millis": 0,
    "execution_start": 1730430962349,
    "source_hash": "db0467fc"
   },
   "outputs": [
    {
     "data": {
      "text/html": [
       "<div>\n",
       "<style scoped>\n",
       "    .dataframe tbody tr th:only-of-type {\n",
       "        vertical-align: middle;\n",
       "    }\n",
       "\n",
       "    .dataframe tbody tr th {\n",
       "        vertical-align: top;\n",
       "    }\n",
       "\n",
       "    .dataframe thead th {\n",
       "        text-align: right;\n",
       "    }\n",
       "</style>\n",
       "<table border=\"1\" class=\"dataframe\">\n",
       "  <thead>\n",
       "    <tr style=\"text-align: right;\">\n",
       "      <th></th>\n",
       "      <th>COD_4</th>\n",
       "      <th>DESCRIPCION CODIGOS DE CUATRO CARACTERES</th>\n",
       "    </tr>\n",
       "  </thead>\n",
       "  <tbody>\n",
       "    <tr>\n",
       "      <th>count</th>\n",
       "      <td>12423</td>\n",
       "      <td>12423</td>\n",
       "    </tr>\n",
       "    <tr>\n",
       "      <th>unique</th>\n",
       "      <td>12423</td>\n",
       "      <td>12420</td>\n",
       "    </tr>\n",
       "    <tr>\n",
       "      <th>top</th>\n",
       "      <td>Z999</td>\n",
       "      <td>SIFILIS CARDIOVASCULAR</td>\n",
       "    </tr>\n",
       "    <tr>\n",
       "      <th>freq</th>\n",
       "      <td>1</td>\n",
       "      <td>2</td>\n",
       "    </tr>\n",
       "  </tbody>\n",
       "</table>\n",
       "</div>"
      ],
      "text/plain": [
       "        COD_4 DESCRIPCION CODIGOS DE CUATRO CARACTERES\n",
       "count   12423                                    12423\n",
       "unique  12423                                    12420\n",
       "top      Z999                   SIFILIS CARDIOVASCULAR\n",
       "freq        1                                        2"
      ]
     },
     "execution_count": 46,
     "metadata": {},
     "output_type": "execute_result"
    }
   ],
   "source": [
    "cie_df[columnasCie].describe()"
   ]
  },
  {
   "cell_type": "markdown",
   "metadata": {},
   "source": [
    "Se puede ver que los codigos son unicos (debido a que el dato que más se repite tiene frecuencia de 1). Sin embargo, parece ser que las descripciones no son unicas."
   ]
  },
  {
   "cell_type": "markdown",
   "metadata": {
    "cell_id": "5f6cacc01bdb49a9a5b090746444a1ef",
    "deepnote_cell_type": "markdown",
    "id": "xhd-VBJxT10z"
   },
   "source": [
    "## 2. Entendimiento de los datos"
   ]
  },
  {
   "cell_type": "markdown",
   "metadata": {
    "cell_id": "123e99c6584a4eafb7e966a9537031e9",
    "deepnote_cell_type": "markdown",
    "id": "6hpqAaCfJgVx"
   },
   "source": [
    "## 2.1. Análisis de calidad de datos\n",
    "\n",
    "\n",
    "\n"
   ]
  },
  {
   "cell_type": "markdown",
   "metadata": {
    "cell_id": "87edba73baf94951b280f882d8907990",
    "deepnote_cell_type": "markdown",
    "id": "bW2FKJVfT10z"
   },
   "source": [
    "## 2.1.1. Análisis de completitud\n",
    "A continuación, se presentan los porcentajes de completitud e incompletitud para cada uno de los atributos."
   ]
  },
  {
   "cell_type": "code",
   "execution_count": 47,
   "metadata": {
    "cell_id": "34ecce578255454785274ccafb78f38a",
    "colab": {
     "base_uri": "https://localhost:8080/",
     "height": 112
    },
    "deepnote_cell_type": "code",
    "execution_context_id": "cac25676-6f04-46ac-a839-ae17a7654a45",
    "execution_millis": 1,
    "execution_start": 1730430963533,
    "id": "Z_X2Pl-pT10z",
    "outputId": "67512146-df91-46fa-d5b6-310dd36c7915",
    "source_hash": "859ec5d5"
   },
   "outputs": [
    {
     "data": {
      "text/html": [
       "<div>\n",
       "<style scoped>\n",
       "    .dataframe tbody tr th:only-of-type {\n",
       "        vertical-align: middle;\n",
       "    }\n",
       "\n",
       "    .dataframe tbody tr th {\n",
       "        vertical-align: top;\n",
       "    }\n",
       "\n",
       "    .dataframe thead th {\n",
       "        text-align: right;\n",
       "    }\n",
       "</style>\n",
       "<table border=\"1\" class=\"dataframe\">\n",
       "  <thead>\n",
       "    <tr style=\"text-align: right;\">\n",
       "      <th></th>\n",
       "      <th>Atributo</th>\n",
       "      <th>Completitud (%)</th>\n",
       "      <th>Incompletitud (%)</th>\n",
       "    </tr>\n",
       "  </thead>\n",
       "  <tbody>\n",
       "    <tr>\n",
       "      <th>0</th>\n",
       "      <td>COD_4</td>\n",
       "      <td>100.0</td>\n",
       "      <td>0.0</td>\n",
       "    </tr>\n",
       "    <tr>\n",
       "      <th>1</th>\n",
       "      <td>DESCRIPCION CODIGOS DE CUATRO CARACTERES</td>\n",
       "      <td>100.0</td>\n",
       "      <td>0.0</td>\n",
       "    </tr>\n",
       "  </tbody>\n",
       "</table>\n",
       "</div>"
      ],
      "text/plain": [
       "                                   Atributo  Completitud (%)  \\\n",
       "0                                     COD_4            100.0   \n",
       "1  DESCRIPCION CODIGOS DE CUATRO CARACTERES            100.0   \n",
       "\n",
       "   Incompletitud (%)  \n",
       "0                0.0  \n",
       "1                0.0  "
      ]
     },
     "execution_count": 47,
     "metadata": {},
     "output_type": "execute_result"
    }
   ],
   "source": [
    "porcentajeIncompletitudAtributo =  (100 * cie_df[columnasCie].isnull().sum() / cie_df[columnasCie].shape[0]).sort_values(ascending=False)\n",
    "pd.DataFrame({\n",
    "    \"Atributo\": porcentajeIncompletitudAtributo.index,\n",
    "    \"Completitud (%)\": 100 - porcentajeIncompletitudAtributo.values,\n",
    "    \"Incompletitud (%)\": porcentajeIncompletitudAtributo.values\n",
    "})"
   ]
  },
  {
   "cell_type": "markdown",
   "metadata": {
    "cell_id": "4c34baf30d7f43409a54d33eb0b2e930",
    "deepnote_cell_type": "markdown"
   },
   "source": [
    "Se puede ver que todos los codigos tienen su correspondiente descripcion y no existen codigos vacios, no se requiere hacer arreglos por completitud."
   ]
  },
  {
   "cell_type": "markdown",
   "metadata": {
    "cell_id": "cc00991e6f92404f97b5d1bbd550a5b6",
    "deepnote_cell_type": "markdown",
    "id": "bi8woOmSJqzi"
   },
   "source": [
    "## 2.1.2. Análisis de unicidad\n",
    "A continuación, se buscará determinar cuántas filas duplicadas hay en el dataset"
   ]
  },
  {
   "cell_type": "code",
   "execution_count": 48,
   "metadata": {
    "cell_id": "ea4b2c2d4a084c048cf154914c33ccd9",
    "colab": {
     "base_uri": "https://localhost:8080/"
    },
    "deepnote_cell_type": "code",
    "execution_context_id": "cac25676-6f04-46ac-a839-ae17a7654a45",
    "execution_millis": 1,
    "execution_start": 1730430963585,
    "id": "q8dECLc_JtEY",
    "outputId": "9f328fbc-10fe-4629-f3b9-d0f4ea3edb90",
    "source_hash": "26abb2ce"
   },
   "outputs": [
    {
     "name": "stdout",
     "output_type": "stream",
     "text": [
      "Se cuenta con 0 registros duplicados (0.00%)\n"
     ]
    }
   ],
   "source": [
    "registrosDuplicados = cie_df[columnasCie].duplicated()\n",
    "totalDuplicados = registrosDuplicados.sum()\n",
    "totalOpiniones = cie_df[columnasCie].shape[0]\n",
    "porcentajeDuplicados = 100.0 * totalDuplicados / totalOpiniones\n",
    "print(f\"Se cuenta con {totalDuplicados} registros duplicados ({porcentajeDuplicados:.2f}%)\")\n",
    "\n"
   ]
  },
  {
   "cell_type": "markdown",
   "metadata": {
    "cell_id": "3fbdd357e87c47e797a5c5b606ed80b6",
    "deepnote_cell_type": "markdown",
    "id": "o4AJqOoXUmQ-"
   },
   "source": [
    "Como se habia evidenciado, tampoco hay registros duplicados, no se requiere hacer arreglos por unicidad."
   ]
  },
  {
   "cell_type": "markdown",
   "metadata": {
    "cell_id": "3f04d9c088d140d98b3351dfd3d46ff3",
    "deepnote_cell_type": "markdown",
    "id": "FRM88NzK6U-J"
   },
   "source": [
    "## 2.1.3. Análisis de validez"
   ]
  },
  {
   "cell_type": "code",
   "execution_count": 49,
   "metadata": {
    "cell_id": "165f710b1903443b87e53a4e3be08596",
    "colab": {
     "base_uri": "https://localhost:8080/",
     "height": 143
    },
    "deepnote_cell_type": "code",
    "execution_context_id": "cac25676-6f04-46ac-a839-ae17a7654a45",
    "execution_millis": 0,
    "execution_start": 1730430963633,
    "id": "z0fZSb5mWYBL",
    "outputId": "cf2efcb5-6e3d-4c4b-cac0-042d0f188acd",
    "source_hash": "16ef5acf"
   },
   "outputs": [
    {
     "data": {
      "text/html": [
       "<div>\n",
       "<style scoped>\n",
       "    .dataframe tbody tr th:only-of-type {\n",
       "        vertical-align: middle;\n",
       "    }\n",
       "\n",
       "    .dataframe tbody tr th {\n",
       "        vertical-align: top;\n",
       "    }\n",
       "\n",
       "    .dataframe thead th {\n",
       "        text-align: right;\n",
       "    }\n",
       "</style>\n",
       "<table border=\"1\" class=\"dataframe\">\n",
       "  <thead>\n",
       "    <tr style=\"text-align: right;\">\n",
       "      <th></th>\n",
       "      <th>COD_3</th>\n",
       "      <th>DESRIPCION CATEGORIAS DE TRES CARACTERES</th>\n",
       "      <th>COD_4</th>\n",
       "      <th>DESCRIPCION CODIGOS DE CUATRO CARACTERES</th>\n",
       "    </tr>\n",
       "  </thead>\n",
       "  <tbody>\n",
       "    <tr>\n",
       "      <th>238</th>\n",
       "      <td>A52</td>\n",
       "      <td>SIFILIS TARDIA</td>\n",
       "      <td>A520†</td>\n",
       "      <td>SIFILIS CARDIOVASCULAR</td>\n",
       "    </tr>\n",
       "    <tr>\n",
       "      <th>3527</th>\n",
       "      <td>I98*</td>\n",
       "      <td>OTROS TRASTORNOS DEL SISTEMA CIRCULATORIO EN E...</td>\n",
       "      <td>I980*</td>\n",
       "      <td>SIFILIS CARDIOVASCULAR</td>\n",
       "    </tr>\n",
       "    <tr>\n",
       "      <th>6438</th>\n",
       "      <td>NaN</td>\n",
       "      <td>NaN</td>\n",
       "      <td>Q318</td>\n",
       "      <td>OTRAS MALFORMACIONES CONGENITAS DE LA LARINGE</td>\n",
       "    </tr>\n",
       "    <tr>\n",
       "      <th>6482</th>\n",
       "      <td>NaN</td>\n",
       "      <td>NaN</td>\n",
       "      <td>Q388</td>\n",
       "      <td>OTRAS MALFORMACIONES CONGENITAS DE LA LARINGE</td>\n",
       "    </tr>\n",
       "    <tr>\n",
       "      <th>6900</th>\n",
       "      <td>R09</td>\n",
       "      <td>OTROS SINTOMAS Y SIGNOS QUE INVOLUCRAN LOS SIS...</td>\n",
       "      <td>R090</td>\n",
       "      <td>ASFIXIA</td>\n",
       "    </tr>\n",
       "    <tr>\n",
       "      <th>8311</th>\n",
       "      <td>T71</td>\n",
       "      <td>ASFIXIA</td>\n",
       "      <td>T71</td>\n",
       "      <td>ASFIXIA</td>\n",
       "    </tr>\n",
       "  </tbody>\n",
       "</table>\n",
       "</div>"
      ],
      "text/plain": [
       "     COD_3           DESRIPCION CATEGORIAS DE TRES CARACTERES  COD_4  \\\n",
       "238    A52                                     SIFILIS TARDIA  A520†   \n",
       "3527  I98*  OTROS TRASTORNOS DEL SISTEMA CIRCULATORIO EN E...  I980*   \n",
       "6438   NaN                                                NaN   Q318   \n",
       "6482   NaN                                                NaN   Q388   \n",
       "6900   R09  OTROS SINTOMAS Y SIGNOS QUE INVOLUCRAN LOS SIS...   R090   \n",
       "8311   T71                                            ASFIXIA    T71   \n",
       "\n",
       "           DESCRIPCION CODIGOS DE CUATRO CARACTERES  \n",
       "238                          SIFILIS CARDIOVASCULAR  \n",
       "3527                         SIFILIS CARDIOVASCULAR  \n",
       "6438  OTRAS MALFORMACIONES CONGENITAS DE LA LARINGE  \n",
       "6482  OTRAS MALFORMACIONES CONGENITAS DE LA LARINGE  \n",
       "6900                                        ASFIXIA  \n",
       "8311                                        ASFIXIA  "
      ]
     },
     "execution_count": 49,
     "metadata": {},
     "output_type": "execute_result"
    }
   ],
   "source": [
    "descripciones_duplicadas = cie_df.groupby('DESCRIPCION CODIGOS DE CUATRO CARACTERES').filter(lambda x: len(x) > 1)\n",
    "descripciones_duplicadas"
   ]
  },
  {
   "cell_type": "markdown",
   "metadata": {
    "cell_id": "5179b89f9f0d444d8cd51611c6f7a449",
    "deepnote_cell_type": "markdown"
   },
   "source": [
    "Se puede ver que las dos primeras filas, si bien tienen la misma descripción, son de enfermedades distintas, por tanto deberian tratarse como tal. Lo mismo pasa con las dos ultimos filas.\n",
    "\n",
    "Al revisar manualmente, se evidencia que Q388 hace referencia a \"OTRAS MALFORMACIONES CONGENITAS DE LA LENGUA, DE LA BOCA Y DE LA FARINGE\" mientras que Q318 hace referencia a \"MALFORMACIONES CONGENITAS DE LA LARINGE\". Por tanto deben considerarse como enfermedades diferentes y no habrian errores de validez"
   ]
  },
  {
   "cell_type": "markdown",
   "metadata": {
    "cell_id": "5c89d6e41feb4768aad4e3e99355738f",
    "deepnote_cell_type": "markdown",
    "id": "A1vuYKiZ6U-J"
   },
   "source": [
    "## 2.1.4. Análisis de consistencia\n",
    "\n",
    "No se encontraron problemas de consistencia en los datos"
   ]
  },
  {
   "cell_type": "markdown",
   "metadata": {
    "cell_id": "1f321f8d80144472b8a68f6a43d6accf",
    "deepnote_cell_type": "markdown"
   },
   "source": [
    "# 4. Cambios propuestos\n",
    "\n",
    "# Dim_Muerte\n",
    "\n",
    "**Fuente de datos**\n",
    "Cie\n",
    "\n",
    "Campos\n",
    "- COD_4\t\n",
    "- DESCRIPCION CODIGOS DE CUATRO CARACTERES\n",
    "\n",
    "**Extraer informacion de**  \n",
    "Cie\n",
    "\n",
    "**Transformaciones**\n",
    "\n",
    "1. Renombrar COD_4 a cod_causa_basica\n",
    "2. Renombrar DESCRIPCION CODIGOS DE CUATRO CARACTERES a causa_basica\n",
    "\n",
    "\n",
    "**Carga de datos**\n",
    "Destino de datos: Dim_Muerte\n",
    "\n",
    "Campos:\n",
    "- Cod_causa_basica  \n",
    "- Causa_basica   \n"
   ]
  }
 ],
 "metadata": {
  "deepnote_notebook_id": "7e14edd71479414985e39b6117c93986",
  "kernelspec": {
   "display_name": "Python 3",
   "language": "python",
   "name": "python3"
  },
  "language_info": {
   "codemirror_mode": {
    "name": "ipython",
    "version": 3
   },
   "file_extension": ".py",
   "mimetype": "text/x-python",
   "name": "python",
   "nbconvert_exporter": "python",
   "pygments_lexer": "ipython3",
   "version": "3.12.5"
  }
 },
 "nbformat": 4,
 "nbformat_minor": 0
}
